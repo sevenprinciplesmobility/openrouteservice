{
 "cells": [
  {
   "cell_type": "markdown",
   "metadata": {},
   "source": [
    "# Test the self hosted service \n",
    "The service is set up with docker. To find out how to change the possibilities what to control the possible routing parameters from the outside in this notbook a call for the service is implemented. "
   ]
  },
  {
   "cell_type": "code",
   "execution_count": 16,
   "metadata": {
    "ExecuteTime": {
     "end_time": "2023-09-05T08:22:04.346284Z",
     "start_time": "2023-09-05T08:22:04.334704Z"
    }
   },
   "outputs": [],
   "source": [
    "import pandas as pd\n",
    "from routingpy import ORS, Google\n",
    "from routingpy.exceptions import RouterApiError\n",
    "import folium\n",
    "import requests\n",
    "import json"
   ]
  },
  {
   "cell_type": "code",
   "execution_count": 13,
   "metadata": {
    "ExecuteTime": {
     "end_time": "2023-09-05T08:22:06.638481Z",
     "start_time": "2023-09-05T08:22:06.624406Z"
    }
   },
   "outputs": [],
   "source": [
    "class RoutingTool: \n",
    "    \"\"\"Calculate different routes for each given start and end point.\"\"\"\n",
    "    def __init__(self):\n",
    "        '''Define url.'''\n",
    "        self.base_url_ors = 'http://localhost:8080/ors/v2/directions'\n",
    "        self.setting_ors_cargo_bike()\n",
    "        \n",
    "    def setting_ors_cargo_bike(self, elevation = True, avoid_features = [\"junction\", \"steps\"], steepness_difficulty = 0):\n",
    "\n",
    "        ors_cargo_bike_green_args = {\n",
    "            'elevation': elevation, # take elevation into account\n",
    "            'language': 'de',\n",
    "            'options': {\n",
    "                \"avoid_features\": avoid_features,# avoid steps\n",
    "                'profile_params': {\n",
    "                    'weightings': {\n",
    "                        'steepness_difficulty': steepness_difficulty, # Beginner steepness difficulty\n",
    "                        'green': 1\n",
    "                    },\n",
    "                },\n",
    "            },\n",
    "            'extra_info': [\n",
    "                'waytype',\n",
    "                'surface'\n",
    "            ],\n",
    "        }     \n",
    "        ors_cargo_bike_args = {\n",
    "            'elevation': elevation, # take elevation into account\n",
    "            'language': 'de',\n",
    "            'options': {\n",
    "                'avoid_features': avoid_features,# avoid steps\n",
    "                'profile_params': {\n",
    "                    'weightings': {\n",
    "                        'steepness_difficulty': steepness_difficulty, # Beginner steepness difficulty\n",
    "                    },\n",
    "                },\n",
    "            },\n",
    "            'extra_info': [\n",
    "                'waytype',\n",
    "                'surface'\n",
    "            ],\n",
    "        }   \n",
    "        self.args = [ors_cargo_bike_green_args, ors_cargo_bike_args]\n",
    "\n",
    "    def calculate_directions(self, coordinates):\n",
    "        routes = []\n",
    "        client, profile, args, name = ORS(base_url = self.base_url_ors), 'cycling-cargo', self.args, 'ORS'\n",
    "        try:\n",
    "            for arg in args:\n",
    "                print(\"Trying directions: \", name)\n",
    "                route = client.directions(locations=coordinates, profile=profile, **arg)\n",
    "                print(route)\n",
    "                routes.append((route, name))\n",
    "        except RouterApiError as rae:\n",
    "            # print(\"Error\", rae.message['error'])\n",
    "            # self.rae = rae\n",
    "            # return False\n",
    "            print(rae)\n",
    "        except KeyError as ke:\n",
    "            # print(\"Error\", ke.message['error'])\n",
    "            # return False\n",
    "            print(ke)\n",
    "        self.routes = routes\n",
    "        return True\n",
    "    def direction_wgs84(self):\n",
    "        '''Return the coordinates in wgs84.'''\n",
    "        return self.routes\n",
    "    def direction_etrs89(self):\n",
    "        '''Return the coordinates in etrs89.'''\n",
    "        try:\n",
    "            ors_coords = [self.convert_coord_systems(geom) for geom in self.routes[0][0].geometry]\n",
    "        except:\n",
    "            return False\n",
    "        etrs89  = ors_coords\n",
    "        return etrs89\n",
    "        \n"
   ]
  },
  {
   "cell_type": "code",
   "execution_count": 14,
   "metadata": {
    "ExecuteTime": {
     "end_time": "2023-09-05T08:23:08.259177Z",
     "start_time": "2023-09-05T08:22:25.221006Z"
    }
   },
   "outputs": [
    {
     "name": "stdout",
     "output_type": "stream",
     "text": [
      "Trying directions:  ORS\n",
      "'content-type'\n",
      "[]\n"
     ]
    }
   ],
   "source": [
    "routes = []\n",
    "coord = [[8.67710307065867, 49.4229726228998], [8.683560278482277, 49.39729589125126]] \n",
    "tool_track = RoutingTool()\n",
    "if tool_track.calculate_directions(coord):\n",
    "    print(tool_track.routes)\n",
    "    routes.append(tool_track.routes[0][0])\n",
    "    routes.append(tool_track.routes[1][0])"
   ]
  },
  {
   "cell_type": "markdown",
   "metadata": {},
   "source": [
    "# Alternative approach to calling local ORS"
   ]
  },
  {
   "cell_type": "code",
   "execution_count": 17,
   "metadata": {},
   "outputs": [],
   "source": [
    "check_url = 'http://localhost:8080/ors/v2/health'\n",
    "\n",
    "check_response = requests.get(check_url)\n",
    "ideal_response = {\"status\":\"ready\"}\n",
    "\n",
    "if check_response.json() == ideal_response:\n",
    "\n",
    "    url = 'http://localhost:8080/ors/v2/directions/cycling-cargo'\n",
    "\n",
    "    headers = {\n",
    "    'Content-Type': 'application/json; charset=utf-8',\n",
    "    'Accept': 'application/json, application/geo+json, application/gpx+xml, img/png; charset=utf-8'\n",
    "    }   \n",
    "\n",
    "    data_1 = {\n",
    "        \"coordinates\":[[8.67710307065867, 49.4229726228998], [8.683560278482277, 49.39729589125126]],\n",
    "        \"options\": {\n",
    "            \"avoid_features\":[\"junction\", \"steps\"]\n",
    "        },\n",
    "        \"attributes\":[\"avgspeed\"],\n",
    "        \"instructions\":\"false\",\n",
    "        \"preference\":\"shortest\",\n",
    "        \"units\":\"m\"\n",
    "    }\n",
    "\n",
    "    data_2 = {\n",
    "    \"coordinates\":[[8.67710307065867, 49.4229726228998], [8.683560278482277, 49.39729589125126]],\n",
    "    \"options\": {\n",
    "        \"avoid_features\":[\"steps\"]\n",
    "    },\n",
    "    \"attributes\":[\"avgspeed\"],\n",
    "    \"instructions\":\"false\",\n",
    "    \"preference\":\"shortest\",\n",
    "    \"units\":\"m\"\n",
    "    }\n",
    "\n",
    "    response_1 = requests.post(url, headers=headers, data=json.dumps(data_1))\n",
    "\n",
    "    response_2 = requests.post(url, headers=headers, data=json.dumps(data_2))\n",
    "\n",
    "    # Remove comments below to save file\n",
    "\n",
    "    # filename = 'response-custom.json'\n",
    "\n",
    "    # with open(filename, 'w') as f:\n",
    "    #     json.dump(response.json(), f, indent=4)\n",
    "\n",
    "else:\n",
    "    print(\"ORS not ready...\")\n",
    "    print(\"Response: \", check_response.json())"
   ]
  },
  {
   "cell_type": "code",
   "execution_count": 24,
   "metadata": {},
   "outputs": [],
   "source": [
    "response = response.json()"
   ]
  },
  {
   "cell_type": "code",
   "execution_count": 25,
   "metadata": {
    "ExecuteTime": {
     "end_time": "2023-09-04T09:18:28.662209Z",
     "start_time": "2023-09-04T09:18:28.524822Z"
    }
   },
   "outputs": [],
   "source": [
    "class DisplayRoute():\n",
    "    def swap_lat_lon(self,coordinates):\n",
    "        return list(map(lambda point: [point[1], point[0]], coordinates))\n",
    "    def display_map(self,routes):\n",
    "        results = self.setting_up_api(routes)\n",
    "        my_map = folium.Map()\n",
    "\n",
    "        for route, name, color in results:\n",
    "            points = self.swap_lat_lon(route.geometry) \n",
    "            feature_group = folium.FeatureGroup(name=name)\n",
    "            folium.PolyLine(points, color=color, opacity=0.5, tooltip=name).add_to(feature_group)\n",
    "            feature_group.add_to(my_map)\n",
    "\n",
    "        folium.LayerControl(collapsed=False, hideSingleBase=True).add_to(my_map)\n",
    "        my_map.fit_bounds(my_map.get_bounds())\n",
    "        return my_map\n",
    "    def setting_up_api(self, routes):\n",
    "        settings = []\n",
    "        settings.append(routes)\n",
    "        settings.append((routes[0], 'Green', 'green'))\n",
    "        settings.append((routes[1], ' Not Green', 'blue'))\n",
    "        return settings"
   ]
  },
  {
   "cell_type": "code",
   "execution_count": null,
   "metadata": {
    "ExecuteTime": {
     "end_time": "2023-09-04T09:18:28.686522Z",
     "start_time": "2023-09-04T09:18:28.536756Z"
    }
   },
   "outputs": [],
   "source": [
    "map_routes = DisplayRoute()\n",
    "map_routes.display_map(response)"
   ]
  },
  {
   "cell_type": "markdown",
   "metadata": {},
   "source": [
    "# Alternative way to display routes"
   ]
  },
  {
   "cell_type": "code",
   "execution_count": null,
   "metadata": {},
   "outputs": [],
   "source": [
    "import folium\n",
    "import polyline\n",
    "\n",
    "\n",
    "# Decode polyline\n",
    "geometry = response['routes'][0]['geometry']\n",
    "decoded = polyline.decode(geometry)\n",
    "\n",
    "# Create a map centered at the average latitude and longitude of your route\n",
    "map_center = [sum(lat for lat, _ in decoded) / len(decoded), sum(lon for _, lon in decoded) / len(decoded)]\n",
    "route_map = folium.Map(location=map_center, zoom_start=14)\n",
    "\n",
    "# Add the decoded polyline to the map\n",
    "path = folium.PolyLine(locations=decoded, color='blue', weight=2.5, opacity=1).add_to(route_map)\n",
    "\n",
    "# Display the map\n",
    "route_map\n"
   ]
  }
 ],
 "metadata": {
  "kernelspec": {
   "display_name": "Python 3.11.5 ('ors-fork')",
   "language": "python",
   "name": "python3"
  },
  "language_info": {
   "codemirror_mode": {
    "name": "ipython",
    "version": 3
   },
   "file_extension": ".py",
   "mimetype": "text/x-python",
   "name": "python",
   "nbconvert_exporter": "python",
   "pygments_lexer": "ipython3",
   "version": "3.11.5"
  },
  "orig_nbformat": 4,
  "vscode": {
   "interpreter": {
    "hash": "5dcae8647ef7c3e0b563a6258c05d816d7d93fc3a7269dde0e0aa1b4b01d3246"
   }
  }
 },
 "nbformat": 4,
 "nbformat_minor": 2
}
