{
 "cells": [
  {
   "cell_type": "markdown",
   "metadata": {},
   "source": [
    "# Test the self hosted service \n",
    "The service is set up with docker. To find out how to change the possibilities what to control the possible routing parameters from the outside in this notbook a call for the service is implemented. "
   ]
  },
  {
   "cell_type": "code",
   "execution_count": 16,
   "metadata": {
    "ExecuteTime": {
     "end_time": "2023-09-05T08:22:04.346284Z",
     "start_time": "2023-09-05T08:22:04.334704Z"
    }
   },
   "outputs": [],
   "source": [
    "import pandas as pd\n",
    "from routingpy import ORS, Google\n",
    "from routingpy.exceptions import RouterApiError\n",
    "import folium\n",
    "import requests\n",
    "import json"
   ]
  },
  {
   "cell_type": "code",
   "execution_count": 13,
   "metadata": {
    "ExecuteTime": {
     "end_time": "2023-09-05T08:22:06.638481Z",
     "start_time": "2023-09-05T08:22:06.624406Z"
    }
   },
   "outputs": [],
   "source": [
    "class RoutingTool: \n",
    "    \"\"\"Calculate different routes for each given start and end point.\"\"\"\n",
    "    def __init__(self):\n",
    "        '''Define url.'''\n",
    "        self.base_url_ors = 'http://localhost:8080/ors/v2/directions'\n",
    "        self.setting_ors_cargo_bike()\n",
    "        \n",
    "    def setting_ors_cargo_bike(self, elevation = True, avoid_features = [\"junction\", \"steps\"], steepness_difficulty = 0):\n",
    "\n",
    "        ors_cargo_bike_green_args = {\n",
    "            'elevation': elevation, # take elevation into account\n",
    "            'language': 'de',\n",
    "            'options': {\n",
    "                \"avoid_features\": avoid_features,# avoid steps\n",
    "                'profile_params': {\n",
    "                    'weightings': {\n",
    "                        'steepness_difficulty': steepness_difficulty, # Beginner steepness difficulty\n",
    "                        'green': 1\n",
    "                    },\n",
    "                },\n",
    "            },\n",
    "            'extra_info': [\n",
    "                'waytype',\n",
    "                'surface'\n",
    "            ],\n",
    "        }     \n",
    "        ors_cargo_bike_args = {\n",
    "            'elevation': elevation, # take elevation into account\n",
    "            'language': 'de',\n",
    "            'options': {\n",
    "                'avoid_features': avoid_features,# avoid steps\n",
    "                'profile_params': {\n",
    "                    'weightings': {\n",
    "                        'steepness_difficulty': steepness_difficulty, # Beginner steepness difficulty\n",
    "                    },\n",
    "                },\n",
    "            },\n",
    "            'extra_info': [\n",
    "                'waytype',\n",
    "                'surface'\n",
    "            ],\n",
    "        }   \n",
    "        self.args = [ors_cargo_bike_green_args, ors_cargo_bike_args]\n",
    "\n",
    "    def calculate_directions(self, coordinates):\n",
    "        routes = []\n",
    "        client, profile, args, name = ORS(base_url = self.base_url_ors), 'cycling-cargo', self.args, 'ORS'\n",
    "        try:\n",
    "            for arg in args:\n",
    "                print(\"Trying directions: \", name)\n",
    "                route = client.directions(locations=coordinates, profile=profile, **arg)\n",
    "                print(route)\n",
    "                routes.append((route, name))\n",
    "        except RouterApiError as rae:\n",
    "            # print(\"Error\", rae.message['error'])\n",
    "            # self.rae = rae\n",
    "            # return False\n",
    "            print(rae)\n",
    "        except KeyError as ke:\n",
    "            # print(\"Error\", ke.message['error'])\n",
    "            # return False\n",
    "            print(ke)\n",
    "        self.routes = routes\n",
    "        return True\n",
    "    def direction_wgs84(self):\n",
    "        '''Return the coordinates in wgs84.'''\n",
    "        return self.routes\n",
    "    def direction_etrs89(self):\n",
    "        '''Return the coordinates in etrs89.'''\n",
    "        try:\n",
    "            ors_coords = [self.convert_coord_systems(geom) for geom in self.routes[0][0].geometry]\n",
    "        except:\n",
    "            return False\n",
    "        etrs89  = ors_coords\n",
    "        return etrs89\n",
    "        \n"
   ]
  },
  {
   "cell_type": "code",
   "execution_count": 14,
   "metadata": {
    "ExecuteTime": {
     "end_time": "2023-09-05T08:23:08.259177Z",
     "start_time": "2023-09-05T08:22:25.221006Z"
    }
   },
   "outputs": [
    {
     "name": "stdout",
     "output_type": "stream",
     "text": [
      "Trying directions:  ORS\n",
      "'content-type'\n",
      "[]\n"
     ]
    }
   ],
   "source": [
    "routes = []\n",
    "coord = [[8.67710307065867, 49.4229726228998], [8.683560278482277, 49.39729589125126]] \n",
    "tool_track = RoutingTool()\n",
    "if tool_track.calculate_directions(coord):\n",
    "    print(tool_track.routes)\n",
    "    # routes.append(tool_track.routes[0][0])\n",
    "    # routes.append(tool_track.routes[1][0])"
   ]
  },
  {
   "cell_type": "markdown",
   "metadata": {},
   "source": [
    "# Alternative approach to calling local ORS"
   ]
  },
  {
   "cell_type": "code",
   "execution_count": 17,
   "metadata": {},
   "outputs": [],
   "source": [
    "check_url = 'http://localhost:8080/ors/v2/health'\n",
    "\n",
    "check_response = requests.get(check_url)\n",
    "ideal_response = {\"status\":\"ready\"}\n",
    "\n",
    "if check_response.json() == ideal_response:\n",
    "\n",
    "    url = 'http://localhost:8080/ors/v2/directions/cycling-cargo'\n",
    "\n",
    "    headers = {\n",
    "    'Content-Type': 'application/json; charset=utf-8',\n",
    "    'Accept': 'application/json, application/geo+json, application/gpx+xml, img/png; charset=utf-8'\n",
    "    }   \n",
    "\n",
    "    data = {\n",
    "        \"coordinates\":[[8.67710307065867, 49.4229726228998], [8.683560278482277, 49.39729589125126]],\n",
    "        \"options\": {\n",
    "            \"avoid_features\":[\"junction\", \"steps\"]\n",
    "        },\n",
    "        \"attributes\":[\"avgspeed\"],\n",
    "        \"instructions\":\"false\",\n",
    "        \"preference\":\"shortest\",\n",
    "        \"units\":\"m\"\n",
    "    }\n",
    "\n",
    "    response = requests.post(url, headers=headers, data=json.dumps(data))\n",
    "\n",
    "    # Remove comments below to save file\n",
    "\n",
    "    # filename = 'response-custom.json'\n",
    "\n",
    "    # with open(filename, 'w') as f:\n",
    "    #     json.dump(response.json(), f, indent=4)\n",
    "\n",
    "else:\n",
    "    print(\"ORS not ready...\")\n",
    "    print(\"Response: \", check_response.json())"
   ]
  },
  {
   "cell_type": "code",
   "execution_count": 24,
   "metadata": {},
   "outputs": [],
   "source": [
    "response = response.json()"
   ]
  },
  {
   "cell_type": "code",
   "execution_count": 25,
   "metadata": {
    "ExecuteTime": {
     "end_time": "2023-09-04T09:18:28.662209Z",
     "start_time": "2023-09-04T09:18:28.524822Z"
    }
   },
   "outputs": [],
   "source": [
    "class DisplayRoute():\n",
    "    def swap_lat_lon(self,coordinates):\n",
    "        return list(map(lambda point: [point[1], point[0]], coordinates))\n",
    "    def display_map(self,routes):\n",
    "        results = self.setting_up_api(routes)\n",
    "        my_map = folium.Map()\n",
    "\n",
    "        for route, name, color in results:\n",
    "            points = self.swap_lat_lon(route.geometry) \n",
    "            feature_group = folium.FeatureGroup(name=name)\n",
    "            folium.PolyLine(points, color=color, opacity=0.5, tooltip=name).add_to(feature_group)\n",
    "            feature_group.add_to(my_map)\n",
    "\n",
    "        folium.LayerControl(collapsed=False, hideSingleBase=True).add_to(my_map)\n",
    "        my_map.fit_bounds(my_map.get_bounds())\n",
    "        return my_map\n",
    "    def setting_up_api(self, routes):\n",
    "        settings = []\n",
    "        settings.append(routes)\n",
    "        # settings.append((routes[0], 'Green', 'green'))\n",
    "        # settings.append((routes[1], ' Not Green', 'blue'))\n",
    "        return settings"
   ]
  },
  {
   "cell_type": "code",
   "execution_count": null,
   "metadata": {
    "ExecuteTime": {
     "end_time": "2023-09-04T09:18:28.686522Z",
     "start_time": "2023-09-04T09:18:28.536756Z"
    }
   },
   "outputs": [],
   "source": [
    "map_routes = DisplayRoute()\n",
    "map_routes.display_map(response)"
   ]
  },
  {
   "cell_type": "markdown",
   "metadata": {},
   "source": [
    "# Alternative way to display routes"
   ]
  },
  {
   "cell_type": "code",
   "execution_count": 28,
   "metadata": {},
   "outputs": [
    {
     "data": {
      "text/html": [
       "<div style=\"width:100%;\"><div style=\"position:relative;width:100%;height:0;padding-bottom:60%;\"><span style=\"color:#565656\">Make this Notebook Trusted to load map: File -> Trust Notebook</span><iframe srcdoc=\"&lt;!DOCTYPE html&gt;\n",
       "&lt;html&gt;\n",
       "&lt;head&gt;\n",
       "    \n",
       "    &lt;meta http-equiv=&quot;content-type&quot; content=&quot;text/html; charset=UTF-8&quot; /&gt;\n",
       "    \n",
       "        &lt;script&gt;\n",
       "            L_NO_TOUCH = false;\n",
       "            L_DISABLE_3D = false;\n",
       "        &lt;/script&gt;\n",
       "    \n",
       "    &lt;style&gt;html, body {width: 100%;height: 100%;margin: 0;padding: 0;}&lt;/style&gt;\n",
       "    &lt;style&gt;#map {position:absolute;top:0;bottom:0;right:0;left:0;}&lt;/style&gt;\n",
       "    &lt;script src=&quot;https://cdn.jsdelivr.net/npm/leaflet@1.9.3/dist/leaflet.js&quot;&gt;&lt;/script&gt;\n",
       "    &lt;script src=&quot;https://code.jquery.com/jquery-1.12.4.min.js&quot;&gt;&lt;/script&gt;\n",
       "    &lt;script src=&quot;https://cdn.jsdelivr.net/npm/bootstrap@5.2.2/dist/js/bootstrap.bundle.min.js&quot;&gt;&lt;/script&gt;\n",
       "    &lt;script src=&quot;https://cdnjs.cloudflare.com/ajax/libs/Leaflet.awesome-markers/2.0.2/leaflet.awesome-markers.js&quot;&gt;&lt;/script&gt;\n",
       "    &lt;link rel=&quot;stylesheet&quot; href=&quot;https://cdn.jsdelivr.net/npm/leaflet@1.9.3/dist/leaflet.css&quot;/&gt;\n",
       "    &lt;link rel=&quot;stylesheet&quot; href=&quot;https://cdn.jsdelivr.net/npm/bootstrap@5.2.2/dist/css/bootstrap.min.css&quot;/&gt;\n",
       "    &lt;link rel=&quot;stylesheet&quot; href=&quot;https://netdna.bootstrapcdn.com/bootstrap/3.0.0/css/bootstrap.min.css&quot;/&gt;\n",
       "    &lt;link rel=&quot;stylesheet&quot; href=&quot;https://cdn.jsdelivr.net/npm/@fortawesome/fontawesome-free@6.2.0/css/all.min.css&quot;/&gt;\n",
       "    &lt;link rel=&quot;stylesheet&quot; href=&quot;https://cdnjs.cloudflare.com/ajax/libs/Leaflet.awesome-markers/2.0.2/leaflet.awesome-markers.css&quot;/&gt;\n",
       "    &lt;link rel=&quot;stylesheet&quot; href=&quot;https://cdn.jsdelivr.net/gh/python-visualization/folium/folium/templates/leaflet.awesome.rotate.min.css&quot;/&gt;\n",
       "    \n",
       "            &lt;meta name=&quot;viewport&quot; content=&quot;width=device-width,\n",
       "                initial-scale=1.0, maximum-scale=1.0, user-scalable=no&quot; /&gt;\n",
       "            &lt;style&gt;\n",
       "                #map_a81a98d119fd433014488377f756d5c7 {\n",
       "                    position: relative;\n",
       "                    width: 100.0%;\n",
       "                    height: 100.0%;\n",
       "                    left: 0.0%;\n",
       "                    top: 0.0%;\n",
       "                }\n",
       "                .leaflet-container { font-size: 1rem; }\n",
       "            &lt;/style&gt;\n",
       "        \n",
       "&lt;/head&gt;\n",
       "&lt;body&gt;\n",
       "    \n",
       "    \n",
       "            &lt;div class=&quot;folium-map&quot; id=&quot;map_a81a98d119fd433014488377f756d5c7&quot; &gt;&lt;/div&gt;\n",
       "        \n",
       "&lt;/body&gt;\n",
       "&lt;script&gt;\n",
       "    \n",
       "    \n",
       "            var map_a81a98d119fd433014488377f756d5c7 = L.map(\n",
       "                &quot;map_a81a98d119fd433014488377f756d5c7&quot;,\n",
       "                {\n",
       "                    center: [49.407664301075265, 8.678946021505375],\n",
       "                    crs: L.CRS.EPSG3857,\n",
       "                    zoom: 14,\n",
       "                    zoomControl: true,\n",
       "                    preferCanvas: false,\n",
       "                }\n",
       "            );\n",
       "\n",
       "            \n",
       "\n",
       "        \n",
       "    \n",
       "            var tile_layer_191d3e69a31a0b0ed500069aa1ce688e = L.tileLayer(\n",
       "                &quot;https://{s}.tile.openstreetmap.org/{z}/{x}/{y}.png&quot;,\n",
       "                {&quot;attribution&quot;: &quot;Data by \\u0026copy; \\u003ca target=\\&quot;_blank\\&quot; href=\\&quot;http://openstreetmap.org\\&quot;\\u003eOpenStreetMap\\u003c/a\\u003e, under \\u003ca target=\\&quot;_blank\\&quot; href=\\&quot;http://www.openstreetmap.org/copyright\\&quot;\\u003eODbL\\u003c/a\\u003e.&quot;, &quot;detectRetina&quot;: false, &quot;maxNativeZoom&quot;: 18, &quot;maxZoom&quot;: 18, &quot;minZoom&quot;: 0, &quot;noWrap&quot;: false, &quot;opacity&quot;: 1, &quot;subdomains&quot;: &quot;abc&quot;, &quot;tms&quot;: false}\n",
       "            ).addTo(map_a81a98d119fd433014488377f756d5c7);\n",
       "        \n",
       "    \n",
       "            var poly_line_bb703df0920b55447c87571e52ee2e40 = L.polyline(\n",
       "                [[49.42296, 8.67709], [49.42287, 8.67722], [49.42263, 8.67753], [49.42259, 8.67759], [49.42248, 8.6774], [49.42221, 8.67697], [49.42206, 8.6768], [49.42177, 8.67654], [49.42162, 8.67641], [49.42136, 8.67629], [49.42082, 8.67612], [49.42004, 8.67608], [49.41986, 8.67608], [49.41973, 8.67608], [49.41967, 8.67608], [49.4196, 8.67608], [49.41948, 8.67608], [49.41936, 8.67608], [49.41931, 8.67612], [49.41711, 8.67616], [49.41701, 8.67618], [49.41692, 8.67619], [49.41682, 8.6762], [49.41406, 8.67642], [49.41275, 8.67649], [49.41266, 8.6765], [49.41257, 8.67651], [49.41212, 8.67657], [49.41166, 8.67657], [49.41137, 8.67656], [49.40965, 8.67666], [49.40946, 8.67667], [49.40911, 8.6767], [49.40893, 8.67671], [49.4088, 8.67671], [49.40839, 8.67673], [49.40823, 8.67672], [49.40814, 8.6767], [49.40798, 8.67673], [49.40785, 8.67685], [49.40612, 8.67693], [49.4057, 8.67695], [49.40559, 8.67695], [49.40551, 8.6769], [49.40539, 8.67688], [49.40513, 8.67688], [49.405, 8.67675], [49.40498, 8.67679], [49.40496, 8.6768], [49.40485, 8.67681], [49.40461, 8.67684], [49.40453, 8.67685], [49.40438, 8.67688], [49.40429, 8.67694], [49.4042, 8.67703], [49.40413, 8.67707], [49.40404, 8.67713], [49.40383, 8.67726], [49.40358, 8.67748], [49.40319, 8.67792], [49.4031, 8.67796], [49.40259, 8.67846], [49.40257, 8.67854], [49.40258, 8.67863], [49.40223, 8.67905], [49.40192, 8.67971], [49.40132, 8.6805], [49.40108, 8.68064], [49.40064, 8.68125], [49.4005, 8.68128], [49.4001, 8.68205], [49.39921, 8.68329], [49.39911, 8.68347], [49.39903, 8.68362], [49.39887, 8.684], [49.39856, 8.68495], [49.39851, 8.68503], [49.39836, 8.68508], [49.39831, 8.68506], [49.39829, 8.68504], [49.39826, 8.68508], [49.39823, 8.68513], [49.39819, 8.68513], [49.39816, 8.68512], [49.39815, 8.68519], [49.3975, 8.68525], [49.39739, 8.68525], [49.39739, 8.68502], [49.39734, 8.6848], [49.39733, 8.68452], [49.39732, 8.68415], [49.39732, 8.68396], [49.3973, 8.68356]],\n",
       "                {&quot;bubblingMouseEvents&quot;: true, &quot;color&quot;: &quot;blue&quot;, &quot;dashArray&quot;: null, &quot;dashOffset&quot;: null, &quot;fill&quot;: false, &quot;fillColor&quot;: &quot;blue&quot;, &quot;fillOpacity&quot;: 0.2, &quot;fillRule&quot;: &quot;evenodd&quot;, &quot;lineCap&quot;: &quot;round&quot;, &quot;lineJoin&quot;: &quot;round&quot;, &quot;noClip&quot;: false, &quot;opacity&quot;: 1, &quot;smoothFactor&quot;: 1.0, &quot;stroke&quot;: true, &quot;weight&quot;: 2.5}\n",
       "            ).addTo(map_a81a98d119fd433014488377f756d5c7);\n",
       "        \n",
       "&lt;/script&gt;\n",
       "&lt;/html&gt;\" style=\"position:absolute;width:100%;height:100%;left:0;top:0;border:none !important;\" allowfullscreen webkitallowfullscreen mozallowfullscreen></iframe></div></div>"
      ],
      "text/plain": [
       "<folium.folium.Map at 0x10ac07110>"
      ]
     },
     "execution_count": 28,
     "metadata": {},
     "output_type": "execute_result"
    }
   ],
   "source": [
    "import folium\n",
    "import polyline\n",
    "\n",
    "\n",
    "# Decode polyline\n",
    "geometry = response['routes'][0]['geometry']\n",
    "decoded = polyline.decode(geometry)\n",
    "\n",
    "# Create a map centered at the average latitude and longitude of your route\n",
    "map_center = [sum(lat for lat, _ in decoded) / len(decoded), sum(lon for _, lon in decoded) / len(decoded)]\n",
    "route_map = folium.Map(location=map_center, zoom_start=14)\n",
    "\n",
    "# Add the decoded polyline to the map\n",
    "path = folium.PolyLine(locations=decoded, color='blue', weight=2.5, opacity=1).add_to(route_map)\n",
    "\n",
    "# Display the map\n",
    "route_map\n"
   ]
  }
 ],
 "metadata": {
  "kernelspec": {
   "display_name": "Python 3.11.5 ('ors-fork')",
   "language": "python",
   "name": "python3"
  },
  "language_info": {
   "codemirror_mode": {
    "name": "ipython",
    "version": 3
   },
   "file_extension": ".py",
   "mimetype": "text/x-python",
   "name": "python",
   "nbconvert_exporter": "python",
   "pygments_lexer": "ipython3",
   "version": "3.11.5"
  },
  "orig_nbformat": 4,
  "vscode": {
   "interpreter": {
    "hash": "5dcae8647ef7c3e0b563a6258c05d816d7d93fc3a7269dde0e0aa1b4b01d3246"
   }
  }
 },
 "nbformat": 4,
 "nbformat_minor": 2
}
