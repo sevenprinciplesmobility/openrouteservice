{
 "cells": [
  {
   "cell_type": "markdown",
   "metadata": {},
   "source": [
    "# Test the self hosted service \n",
    "The service is set up with docker. To find out how to change the possibilities what to control the possible routing parameters from the outside in this notbook a call for the service is implemented. "
   ]
  },
  {
   "cell_type": "code",
   "execution_count": 1,
   "metadata": {
    "ExecuteTime": {
     "end_time": "2023-09-05T08:22:04.346284Z",
     "start_time": "2023-09-05T08:22:04.334704Z"
    }
   },
   "outputs": [],
   "source": [
    "import pandas as pd\n",
    "from routingpy import ORS, Google\n",
    "from routingpy.exceptions import RouterApiError\n",
    "import folium"
   ]
  },
  {
   "cell_type": "code",
   "execution_count": 25,
   "metadata": {
    "ExecuteTime": {
     "end_time": "2023-09-05T08:22:06.638481Z",
     "start_time": "2023-09-05T08:22:06.624406Z"
    }
   },
   "outputs": [],
   "source": [
    "class RoutingTool: \n",
    "    \"\"\"Calculate different routes for each given start and end point.\"\"\"\n",
    "    def __init__(self):\n",
    "        '''Define url.'''\n",
    "        self.base_url_ors = 'http://localhost:8080/ors'\n",
    "        self.setting_ors_cargo_bike()\n",
    "        \n",
    "    def setting_ors_cargo_bike(self, elevation = True, avoid_features = ['junction', 'steps'], steepness_difficulty = 0):\n",
    "\n",
    "        ors_cargo_bike_green_args = {\n",
    "            'elevation': elevation, # take elevation into account\n",
    "            'language': 'de',\n",
    "            'options': {\n",
    "                'avoid_features': avoid_features, # avoid steps\n",
    "                'profile_params': {\n",
    "                    'weightings': {\n",
    "                        'steepness_difficulty': steepness_difficulty, # Beginner steepness difficulty\n",
    "                        'green': 1\n",
    "                    },\n",
    "                },\n",
    "            },\n",
    "            'extra_info': [\n",
    "                'waytype',\n",
    "                'surface'\n",
    "            ],\n",
    "        }     \n",
    "        ors_cargo_bike_args = {\n",
    "            'elevation': elevation, # take elevation into account\n",
    "            'language': 'de',\n",
    "            'options': {\n",
    "                'avoid_features': avoid_features, # avoid steps\n",
    "                'profile_params': {\n",
    "                    'weightings': {\n",
    "                        'steepness_difficulty': steepness_difficulty, # Beginner steepness difficulty\n",
    "                    },\n",
    "                },\n",
    "            },\n",
    "            'extra_info': [\n",
    "                'waytype',\n",
    "                'surface'\n",
    "            ],\n",
    "        }   \n",
    "        self.args = [ors_cargo_bike_green_args, ors_cargo_bike_args]\n",
    "\n",
    "    def calculate_directions(self, coordinates):\n",
    "        routes = []\n",
    "        client, profile, args, name = ORS(base_url = self.base_url_ors), 'cycling-cargo', self.args, 'ORS'\n",
    "        try:\n",
    "            for arg in args: \n",
    "                print(\"Trying directions: \", name)\n",
    "                route = client.directions(locations=coordinates, profile=profile, **arg)\n",
    "                print(\"Successful\")\n",
    "                routes.append((route, name))\n",
    "        except RouterApiError as rae:\n",
    "            print(\"Error\", rae.message['error'])\n",
    "            self.rae = rae\n",
    "            return False\n",
    "        except KeyError as ke:\n",
    "            print(\"Error\", ke.message['error'])\n",
    "            return False\n",
    "        self.routes = routes\n",
    "        return True\n",
    "    def direction_wgs84(self):\n",
    "        '''Return the coordinates in wgs84.'''\n",
    "        return self.routes\n",
    "    def direction_etrs89(self):\n",
    "        '''Return the coordinates in etrs89.'''\n",
    "        try:\n",
    "            ors_coords = [self.convert_coord_systems(geom) for geom in self.routes[0][0].geometry]\n",
    "        except:\n",
    "            return False\n",
    "        etrs89  = ors_coords\n",
    "        return etrs89\n",
    "        \n"
   ]
  },
  {
   "cell_type": "code",
   "execution_count": 24,
   "metadata": {
    "ExecuteTime": {
     "end_time": "2023-09-05T08:23:08.259177Z",
     "start_time": "2023-09-05T08:22:25.221006Z"
    }
   },
   "outputs": [
    {
     "name": "stdout",
     "output_type": "stream",
     "text": [
      "Trying directions:  ORS\n",
      "Error {'code': 2003, 'message': \"Parameter 'avoid_features' has incorrect value of 'junctions'.\"}\n"
     ]
    }
   ],
   "source": [
    "routes = []\n",
    "coord = [[9.17789, 48.78291], [9.1809,48.7873]] \n",
    "tool_track = RoutingTool()\n",
    "if tool_track.calculate_directions(coord):\n",
    "    routes.append(tool_track.routes[0][0])\n",
    "    routes.append(tool_track.routes[1][0])"
   ]
  },
  {
   "cell_type": "code",
   "execution_count": 4,
   "metadata": {
    "ExecuteTime": {
     "end_time": "2023-09-04T09:18:28.662209Z",
     "start_time": "2023-09-04T09:18:28.524822Z"
    }
   },
   "outputs": [],
   "source": [
    "class DisplayRoute():\n",
    "    def swap_lat_lon(self,coordinates):\n",
    "        return list(map(lambda point: [point[1], point[0]], coordinates))\n",
    "    def display_map(self,routes):\n",
    "        results = self.setting_up_api(routes)\n",
    "        my_map = folium.Map()\n",
    "\n",
    "        for route, name, color in results:\n",
    "            points = self.swap_lat_lon(route.geometry) \n",
    "            feature_group = folium.FeatureGroup(name=name)\n",
    "            folium.PolyLine(points, color=color, opacity=0.5, tooltip=name).add_to(feature_group)\n",
    "            feature_group.add_to(my_map)\n",
    "\n",
    "        folium.LayerControl(collapsed=False, hideSingleBase=True).add_to(my_map)\n",
    "        my_map.fit_bounds(my_map.get_bounds())\n",
    "        return my_map\n",
    "    def setting_up_api(self, routes):\n",
    "        settings = []\n",
    "        settings.append((routes[0], 'Green', 'green'))\n",
    "        settings.append((routes[1], ' Not Green', 'blue'))\n",
    "        return settings"
   ]
  },
  {
   "cell_type": "code",
   "execution_count": 5,
   "metadata": {
    "ExecuteTime": {
     "end_time": "2023-09-04T09:18:28.686522Z",
     "start_time": "2023-09-04T09:18:28.536756Z"
    }
   },
   "outputs": [
    {
     "ename": "IndexError",
     "evalue": "list index out of range",
     "output_type": "error",
     "traceback": [
      "\u001b[0;31m---------------------------------------------------------------------------\u001b[0m",
      "\u001b[0;31mIndexError\u001b[0m                                Traceback (most recent call last)",
      "\u001b[1;32m/Users/gwendolin.hoffmann/Documents/mfund_i_route_cargobike/repositories/openrouteservice/testtools/apicaller.ipynb Zelle 6\u001b[0m line \u001b[0;36m2\n\u001b[1;32m      <a href='vscode-notebook-cell:/Users/gwendolin.hoffmann/Documents/mfund_i_route_cargobike/repositories/openrouteservice/testtools/apicaller.ipynb#W5sZmlsZQ%3D%3D?line=0'>1</a>\u001b[0m map_routes \u001b[39m=\u001b[39m DisplayRoute()\n\u001b[0;32m----> <a href='vscode-notebook-cell:/Users/gwendolin.hoffmann/Documents/mfund_i_route_cargobike/repositories/openrouteservice/testtools/apicaller.ipynb#W5sZmlsZQ%3D%3D?line=1'>2</a>\u001b[0m map_routes\u001b[39m.\u001b[39;49mdisplay_map(routes)\n",
      "\u001b[1;32m/Users/gwendolin.hoffmann/Documents/mfund_i_route_cargobike/repositories/openrouteservice/testtools/apicaller.ipynb Zelle 6\u001b[0m line \u001b[0;36m5\n\u001b[1;32m      <a href='vscode-notebook-cell:/Users/gwendolin.hoffmann/Documents/mfund_i_route_cargobike/repositories/openrouteservice/testtools/apicaller.ipynb#W5sZmlsZQ%3D%3D?line=3'>4</a>\u001b[0m \u001b[39mdef\u001b[39;00m \u001b[39mdisplay_map\u001b[39m(\u001b[39mself\u001b[39m,routes):\n\u001b[0;32m----> <a href='vscode-notebook-cell:/Users/gwendolin.hoffmann/Documents/mfund_i_route_cargobike/repositories/openrouteservice/testtools/apicaller.ipynb#W5sZmlsZQ%3D%3D?line=4'>5</a>\u001b[0m     results \u001b[39m=\u001b[39m \u001b[39mself\u001b[39;49m\u001b[39m.\u001b[39;49msetting_up_api(routes)\n\u001b[1;32m      <a href='vscode-notebook-cell:/Users/gwendolin.hoffmann/Documents/mfund_i_route_cargobike/repositories/openrouteservice/testtools/apicaller.ipynb#W5sZmlsZQ%3D%3D?line=5'>6</a>\u001b[0m     my_map \u001b[39m=\u001b[39m folium\u001b[39m.\u001b[39mMap()\n\u001b[1;32m      <a href='vscode-notebook-cell:/Users/gwendolin.hoffmann/Documents/mfund_i_route_cargobike/repositories/openrouteservice/testtools/apicaller.ipynb#W5sZmlsZQ%3D%3D?line=7'>8</a>\u001b[0m     \u001b[39mfor\u001b[39;00m route, name, color \u001b[39min\u001b[39;00m results:\n",
      "\u001b[1;32m/Users/gwendolin.hoffmann/Documents/mfund_i_route_cargobike/repositories/openrouteservice/testtools/apicaller.ipynb Zelle 6\u001b[0m line \u001b[0;36m1\n\u001b[1;32m     <a href='vscode-notebook-cell:/Users/gwendolin.hoffmann/Documents/mfund_i_route_cargobike/repositories/openrouteservice/testtools/apicaller.ipynb#W5sZmlsZQ%3D%3D?line=16'>17</a>\u001b[0m \u001b[39mdef\u001b[39;00m \u001b[39msetting_up_api\u001b[39m(\u001b[39mself\u001b[39m, routes):\n\u001b[1;32m     <a href='vscode-notebook-cell:/Users/gwendolin.hoffmann/Documents/mfund_i_route_cargobike/repositories/openrouteservice/testtools/apicaller.ipynb#W5sZmlsZQ%3D%3D?line=17'>18</a>\u001b[0m     settings \u001b[39m=\u001b[39m []\n\u001b[0;32m---> <a href='vscode-notebook-cell:/Users/gwendolin.hoffmann/Documents/mfund_i_route_cargobike/repositories/openrouteservice/testtools/apicaller.ipynb#W5sZmlsZQ%3D%3D?line=18'>19</a>\u001b[0m     settings\u001b[39m.\u001b[39mappend((routes[\u001b[39m0\u001b[39;49m], \u001b[39m'\u001b[39m\u001b[39mGreen\u001b[39m\u001b[39m'\u001b[39m, \u001b[39m'\u001b[39m\u001b[39mgreen\u001b[39m\u001b[39m'\u001b[39m))\n\u001b[1;32m     <a href='vscode-notebook-cell:/Users/gwendolin.hoffmann/Documents/mfund_i_route_cargobike/repositories/openrouteservice/testtools/apicaller.ipynb#W5sZmlsZQ%3D%3D?line=19'>20</a>\u001b[0m     settings\u001b[39m.\u001b[39mappend((routes[\u001b[39m1\u001b[39m], \u001b[39m'\u001b[39m\u001b[39m Not Green\u001b[39m\u001b[39m'\u001b[39m, \u001b[39m'\u001b[39m\u001b[39mblue\u001b[39m\u001b[39m'\u001b[39m))\n\u001b[1;32m     <a href='vscode-notebook-cell:/Users/gwendolin.hoffmann/Documents/mfund_i_route_cargobike/repositories/openrouteservice/testtools/apicaller.ipynb#W5sZmlsZQ%3D%3D?line=20'>21</a>\u001b[0m     \u001b[39mreturn\u001b[39;00m settings\n",
      "\u001b[0;31mIndexError\u001b[0m: list index out of range"
     ]
    }
   ],
   "source": [
    "map_routes = DisplayRoute()\n",
    "map_routes.display_map(routes)"
   ]
  }
 ],
 "metadata": {
  "kernelspec": {
   "display_name": "env",
   "language": "python",
   "name": "python3"
  },
  "language_info": {
   "codemirror_mode": {
    "name": "ipython",
    "version": 3
   },
   "file_extension": ".py",
   "mimetype": "text/x-python",
   "name": "python",
   "nbconvert_exporter": "python",
   "pygments_lexer": "ipython3",
   "version": "3.11.4"
  },
  "orig_nbformat": 4
 },
 "nbformat": 4,
 "nbformat_minor": 2
}
