{
 "cells": [
  {
   "cell_type": "markdown",
   "metadata": {},
   "source": [
    "# Test the self hosted service \n",
    "The service is set up with docker. To find out how to change the possibilities what to control the possible routing parameters from the outside in this notbook a call for the service is implemented. "
   ]
  },
  {
   "cell_type": "code",
   "execution_count": 1,
   "metadata": {
    "ExecuteTime": {
     "end_time": "2023-09-05T08:22:04.346284Z",
     "start_time": "2023-09-05T08:22:04.334704Z"
    }
   },
   "outputs": [],
   "source": [
    "import pandas as pd\n",
    "from routingpy import ORS, Google\n",
    "from routingpy.exceptions import RouterApiError\n",
    "import folium"
   ]
  },
  {
   "cell_type": "code",
   "execution_count": 2,
   "metadata": {
    "ExecuteTime": {
     "end_time": "2023-09-05T08:22:06.638481Z",
     "start_time": "2023-09-05T08:22:06.624406Z"
    }
   },
   "outputs": [],
   "source": [
    "class RoutingTool: \n",
    "    \"\"\"Calculate different routes for each given start and end point.\"\"\"\n",
    "    def __init__(self):\n",
    "        '''Define url.'''\n",
    "        self.base_url_ors = 'http://localhost:8080/ors'\n",
    "        self.setting_ors_cargo_bike()\n",
    "        \n",
    "    def setting_ors_cargo_bike(self, elevation = True, avoid_features = ['stepi'], steepness_difficulty = 0):\n",
    "\n",
    "        ors_cargo_bike_green_args = {\n",
    "            'elevation': elevation, # take elevation into account\n",
    "            'language': 'de',\n",
    "            'options': {\n",
    "                'avoid_features': avoid_features, # avoid steps\n",
    "                'profile_params': {\n",
    "                    'weightings': {\n",
    "                        'steepness_difficulty': steepness_difficulty, # Beginner steepness difficulty\n",
    "                        'green': 1\n",
    "                    },\n",
    "                },\n",
    "            },\n",
    "            'extra_info': [\n",
    "                'waytype',\n",
    "                'surface'\n",
    "            ],\n",
    "        }     \n",
    "        ors_cargo_bike_args = {\n",
    "            'elevation': elevation, # take elevation into account\n",
    "            'language': 'de',\n",
    "            'options': {\n",
    "                'avoid_features': avoid_features, # avoid steps\n",
    "                'profile_params': {\n",
    "                    'weightings': {\n",
    "                        'steepness_difficulty': steepness_difficulty, # Beginner steepness difficulty\n",
    "                    },\n",
    "                },\n",
    "            },\n",
    "            'extra_info': [\n",
    "                'waytype',\n",
    "                'surface'\n",
    "            ],\n",
    "        }   \n",
    "        self.args = [ors_cargo_bike_green_args, ors_cargo_bike_args]\n",
    "\n",
    "    def calculate_directions(self, coordinates):\n",
    "        routes = []\n",
    "        client, profile, args, name = ORS(base_url = self.base_url_ors), 'cycling-cargo', self.args, 'ORS'\n",
    "        try:\n",
    "            for arg in args: \n",
    "                print(\"Trying directions: \", name)\n",
    "                route = client.directions(locations=coordinates, profile=profile, **arg)\n",
    "                print(\"Successful\")\n",
    "                routes.append((route, name))\n",
    "        except RouterApiError as rae:\n",
    "            print(\"Error\", rae.message['error'])\n",
    "            self.rae = rae\n",
    "            return False\n",
    "        except KeyError as ke:\n",
    "            print(\"Error\", ke.message['error'])\n",
    "            return False\n",
    "        self.routes = routes\n",
    "        return True\n",
    "    def direction_wgs84(self):\n",
    "        '''Return the coordinates in wgs84.'''\n",
    "        return self.routes\n",
    "    def direction_etrs89(self):\n",
    "        '''Return the coordinates in etrs89.'''\n",
    "        try:\n",
    "            ors_coords = [self.convert_coord_systems(geom) for geom in self.routes[0][0].geometry]\n",
    "        except:\n",
    "            return False\n",
    "        etrs89  = ors_coords\n",
    "        return etrs89\n",
    "        \n"
   ]
  },
  {
   "cell_type": "code",
   "execution_count": 3,
   "metadata": {
    "ExecuteTime": {
     "end_time": "2023-09-05T08:23:08.259177Z",
     "start_time": "2023-09-05T08:22:25.221006Z"
    }
   },
   "outputs": [
    {
     "name": "stdout",
     "output_type": "stream",
     "text": [
      "Trying directions:  ORS\n",
      "Error {'code': 2003, 'message': \"Parameter 'avoid_features' has incorrect value of 'junction'.\"}\n"
     ]
    }
   ],
   "source": [
    "routes = []\n",
    "coord = [[9.17789, 48.78291], [9.1809,48.7873]] \n",
    "tool_track = RoutingTool()\n",
    "if tool_track.calculate_directions(coord):\n",
    "    routes.append(tool_track.routes[0][0])\n",
    "    routes.append(tool_track.routes[1][0])"
   ]
  },
  {
   "cell_type": "code",
   "execution_count": 9,
   "metadata": {
    "ExecuteTime": {
     "end_time": "2023-09-04T09:18:28.662209Z",
     "start_time": "2023-09-04T09:18:28.524822Z"
    }
   },
   "outputs": [],
   "source": [
    "class DisplayRoute():\n",
    "    def swap_lat_lon(self,coordinates):\n",
    "        return list(map(lambda point: [point[1], point[0]], coordinates))\n",
    "    def display_map(self,routes):\n",
    "        results = self.setting_up_api(routes)\n",
    "        my_map = folium.Map()\n",
    "\n",
    "        for route, name, color in results:\n",
    "            points = self.swap_lat_lon(route.geometry) \n",
    "            feature_group = folium.FeatureGroup(name=name)\n",
    "            folium.PolyLine(points, color=color, opacity=0.5, tooltip=name).add_to(feature_group)\n",
    "            feature_group.add_to(my_map)\n",
    "\n",
    "        folium.LayerControl(collapsed=False, hideSingleBase=True).add_to(my_map)\n",
    "        my_map.fit_bounds(my_map.get_bounds())\n",
    "        return my_map\n",
    "    def setting_up_api(self, routes):\n",
    "        settings = []\n",
    "        settings.append((routes[0], 'Green', 'green'))\n",
    "        settings.append((routes[1], ' Not Green', 'blue'))\n",
    "        return settings"
   ]
  },
  {
   "cell_type": "code",
   "execution_count": 10,
   "metadata": {
    "ExecuteTime": {
     "end_time": "2023-09-04T09:18:28.686522Z",
     "start_time": "2023-09-04T09:18:28.536756Z"
    }
   },
   "outputs": [
    {
     "data": {
      "text/html": [
       "<div style=\"width:100%;\"><div style=\"position:relative;width:100%;height:0;padding-bottom:60%;\"><span style=\"color:#565656\">Make this Notebook Trusted to load map: File -> Trust Notebook</span><iframe srcdoc=\"&lt;!DOCTYPE html&gt;\n",
       "&lt;html&gt;\n",
       "&lt;head&gt;\n",
       "    \n",
       "    &lt;meta http-equiv=&quot;content-type&quot; content=&quot;text/html; charset=UTF-8&quot; /&gt;\n",
       "    \n",
       "        &lt;script&gt;\n",
       "            L_NO_TOUCH = false;\n",
       "            L_DISABLE_3D = false;\n",
       "        &lt;/script&gt;\n",
       "    \n",
       "    &lt;style&gt;html, body {width: 100%;height: 100%;margin: 0;padding: 0;}&lt;/style&gt;\n",
       "    &lt;style&gt;#map {position:absolute;top:0;bottom:0;right:0;left:0;}&lt;/style&gt;\n",
       "    &lt;script src=&quot;https://cdn.jsdelivr.net/npm/leaflet@1.9.3/dist/leaflet.js&quot;&gt;&lt;/script&gt;\n",
       "    &lt;script src=&quot;https://code.jquery.com/jquery-1.12.4.min.js&quot;&gt;&lt;/script&gt;\n",
       "    &lt;script src=&quot;https://cdn.jsdelivr.net/npm/bootstrap@5.2.2/dist/js/bootstrap.bundle.min.js&quot;&gt;&lt;/script&gt;\n",
       "    &lt;script src=&quot;https://cdnjs.cloudflare.com/ajax/libs/Leaflet.awesome-markers/2.0.2/leaflet.awesome-markers.js&quot;&gt;&lt;/script&gt;\n",
       "    &lt;link rel=&quot;stylesheet&quot; href=&quot;https://cdn.jsdelivr.net/npm/leaflet@1.9.3/dist/leaflet.css&quot;/&gt;\n",
       "    &lt;link rel=&quot;stylesheet&quot; href=&quot;https://cdn.jsdelivr.net/npm/bootstrap@5.2.2/dist/css/bootstrap.min.css&quot;/&gt;\n",
       "    &lt;link rel=&quot;stylesheet&quot; href=&quot;https://netdna.bootstrapcdn.com/bootstrap/3.0.0/css/bootstrap.min.css&quot;/&gt;\n",
       "    &lt;link rel=&quot;stylesheet&quot; href=&quot;https://cdn.jsdelivr.net/npm/@fortawesome/fontawesome-free@6.2.0/css/all.min.css&quot;/&gt;\n",
       "    &lt;link rel=&quot;stylesheet&quot; href=&quot;https://cdnjs.cloudflare.com/ajax/libs/Leaflet.awesome-markers/2.0.2/leaflet.awesome-markers.css&quot;/&gt;\n",
       "    &lt;link rel=&quot;stylesheet&quot; href=&quot;https://cdn.jsdelivr.net/gh/python-visualization/folium/folium/templates/leaflet.awesome.rotate.min.css&quot;/&gt;\n",
       "    \n",
       "            &lt;meta name=&quot;viewport&quot; content=&quot;width=device-width,\n",
       "                initial-scale=1.0, maximum-scale=1.0, user-scalable=no&quot; /&gt;\n",
       "            &lt;style&gt;\n",
       "                #map_bed680e3ff21f4a499e0f6091ec86b34 {\n",
       "                    position: relative;\n",
       "                    width: 100.0%;\n",
       "                    height: 100.0%;\n",
       "                    left: 0.0%;\n",
       "                    top: 0.0%;\n",
       "                }\n",
       "                .leaflet-container { font-size: 1rem; }\n",
       "            &lt;/style&gt;\n",
       "        \n",
       "&lt;/head&gt;\n",
       "&lt;body&gt;\n",
       "    \n",
       "    \n",
       "            &lt;div class=&quot;folium-map&quot; id=&quot;map_bed680e3ff21f4a499e0f6091ec86b34&quot; &gt;&lt;/div&gt;\n",
       "        \n",
       "&lt;/body&gt;\n",
       "&lt;script&gt;\n",
       "    \n",
       "    \n",
       "            var map_bed680e3ff21f4a499e0f6091ec86b34 = L.map(\n",
       "                &quot;map_bed680e3ff21f4a499e0f6091ec86b34&quot;,\n",
       "                {\n",
       "                    center: [0, 0],\n",
       "                    crs: L.CRS.EPSG3857,\n",
       "                    zoom: 1,\n",
       "                    zoomControl: true,\n",
       "                    preferCanvas: false,\n",
       "                }\n",
       "            );\n",
       "\n",
       "            \n",
       "\n",
       "        \n",
       "    \n",
       "            var tile_layer_79878b40dbf4333abc38ea1712ffeed0 = L.tileLayer(\n",
       "                &quot;https://{s}.tile.openstreetmap.org/{z}/{x}/{y}.png&quot;,\n",
       "                {&quot;attribution&quot;: &quot;Data by \\u0026copy; \\u003ca target=\\&quot;_blank\\&quot; href=\\&quot;http://openstreetmap.org\\&quot;\\u003eOpenStreetMap\\u003c/a\\u003e, under \\u003ca target=\\&quot;_blank\\&quot; href=\\&quot;http://www.openstreetmap.org/copyright\\&quot;\\u003eODbL\\u003c/a\\u003e.&quot;, &quot;detectRetina&quot;: false, &quot;maxNativeZoom&quot;: 18, &quot;maxZoom&quot;: 18, &quot;minZoom&quot;: 0, &quot;noWrap&quot;: false, &quot;opacity&quot;: 1, &quot;subdomains&quot;: &quot;abc&quot;, &quot;tms&quot;: false}\n",
       "            ).addTo(map_bed680e3ff21f4a499e0f6091ec86b34);\n",
       "        \n",
       "    \n",
       "            var feature_group_b784b7166c14f0ad2a3358b4e436381a = L.featureGroup(\n",
       "                {}\n",
       "            ).addTo(map_bed680e3ff21f4a499e0f6091ec86b34);\n",
       "        \n",
       "    \n",
       "            var poly_line_94fca5cd80816db35627ddb0a9a0ad3a = L.polyline(\n",
       "                [[48.782892, 9.177873], [48.782946, 9.177744], [48.782989, 9.177633], [48.783066, 9.177423], [48.783115, 9.177304], [48.783164, 9.177185], [48.783645, 9.175975], [48.783717, 9.175833], [48.783786, 9.175755], [48.784015, 9.175596], [48.784328, 9.175366], [48.78469, 9.175099], [48.784989, 9.176021], [48.785015, 9.176105], [48.785228, 9.176786], [48.785256, 9.176871], [48.785259, 9.176885], [48.785325, 9.17708], [48.785352, 9.177158], [48.785464, 9.177487], [48.785557, 9.177759], [48.785605, 9.177896], [48.785684, 9.17813], [48.786032, 9.179169], [48.78611, 9.179402], [48.786259, 9.179855], [48.786283, 9.179925], [48.786311, 9.179901], [48.786337, 9.179881], [48.786388, 9.180026], [48.78727, 9.180264], [48.787367, 9.180318], [48.787336, 9.180402], [48.787298, 9.180615], [48.787279, 9.180764], [48.787315, 9.180774]],\n",
       "                {&quot;bubblingMouseEvents&quot;: true, &quot;color&quot;: &quot;green&quot;, &quot;dashArray&quot;: null, &quot;dashOffset&quot;: null, &quot;fill&quot;: false, &quot;fillColor&quot;: &quot;green&quot;, &quot;fillOpacity&quot;: 0.2, &quot;fillRule&quot;: &quot;evenodd&quot;, &quot;lineCap&quot;: &quot;round&quot;, &quot;lineJoin&quot;: &quot;round&quot;, &quot;noClip&quot;: false, &quot;opacity&quot;: 0.5, &quot;smoothFactor&quot;: 1.0, &quot;stroke&quot;: true, &quot;weight&quot;: 3}\n",
       "            ).addTo(feature_group_b784b7166c14f0ad2a3358b4e436381a);\n",
       "        \n",
       "    \n",
       "            poly_line_94fca5cd80816db35627ddb0a9a0ad3a.bindTooltip(\n",
       "                `&lt;div&gt;\n",
       "                     Green\n",
       "                 &lt;/div&gt;`,\n",
       "                {&quot;sticky&quot;: true}\n",
       "            );\n",
       "        \n",
       "    \n",
       "            var feature_group_dbcd6810b84dfc66a61be3d99bf93035 = L.featureGroup(\n",
       "                {}\n",
       "            ).addTo(map_bed680e3ff21f4a499e0f6091ec86b34);\n",
       "        \n",
       "    \n",
       "            var poly_line_5093097aa5b26f2360d499c09fba3877 = L.polyline(\n",
       "                [[48.782892, 9.177873], [48.782886, 9.177886], [48.782781, 9.178141], [48.782722, 9.178285], [48.782327, 9.179296], [48.782436, 9.179394], [48.782567, 9.179505], [48.78287, 9.179784], [48.783041, 9.179941], [48.78324, 9.180125], [48.783296, 9.180176], [48.783329, 9.180273], [48.783394, 9.180232], [48.783443, 9.180282], [48.783544, 9.180378], [48.783645, 9.180475], [48.78372, 9.180314], [48.783798, 9.180155], [48.784056, 9.179591], [48.784152, 9.179476], [48.784206, 9.17947], [48.784268, 9.179503], [48.784573, 9.179807], [48.784713, 9.179917], [48.784861, 9.179952], [48.785049, 9.18006], [48.78541, 9.180144], [48.785602, 9.180238], [48.785714, 9.18033], [48.785857, 9.180392], [48.785902, 9.180451], [48.785984, 9.180451], [48.786149, 9.180478], [48.786176, 9.18052], [48.786187, 9.180546], [48.786203, 9.180582], [48.786296, 9.180513], [48.786371, 9.180503], [48.787017, 9.180693], [48.787279, 9.180764], [48.787315, 9.180774]],\n",
       "                {&quot;bubblingMouseEvents&quot;: true, &quot;color&quot;: &quot;blue&quot;, &quot;dashArray&quot;: null, &quot;dashOffset&quot;: null, &quot;fill&quot;: false, &quot;fillColor&quot;: &quot;blue&quot;, &quot;fillOpacity&quot;: 0.2, &quot;fillRule&quot;: &quot;evenodd&quot;, &quot;lineCap&quot;: &quot;round&quot;, &quot;lineJoin&quot;: &quot;round&quot;, &quot;noClip&quot;: false, &quot;opacity&quot;: 0.5, &quot;smoothFactor&quot;: 1.0, &quot;stroke&quot;: true, &quot;weight&quot;: 3}\n",
       "            ).addTo(feature_group_dbcd6810b84dfc66a61be3d99bf93035);\n",
       "        \n",
       "    \n",
       "            poly_line_5093097aa5b26f2360d499c09fba3877.bindTooltip(\n",
       "                `&lt;div&gt;\n",
       "                      Not Green\n",
       "                 &lt;/div&gt;`,\n",
       "                {&quot;sticky&quot;: true}\n",
       "            );\n",
       "        \n",
       "    \n",
       "            var layer_control_671d7f0f3e270887da140e752a154dc4 = {\n",
       "                base_layers : {\n",
       "                    &quot;openstreetmap&quot; : tile_layer_79878b40dbf4333abc38ea1712ffeed0,\n",
       "                },\n",
       "                overlays :  {\n",
       "                    &quot;Green&quot; : feature_group_b784b7166c14f0ad2a3358b4e436381a,\n",
       "                    &quot; Not Green&quot; : feature_group_dbcd6810b84dfc66a61be3d99bf93035,\n",
       "                },\n",
       "            };\n",
       "            L.control.layers(\n",
       "                layer_control_671d7f0f3e270887da140e752a154dc4.base_layers,\n",
       "                layer_control_671d7f0f3e270887da140e752a154dc4.overlays,\n",
       "                {&quot;autoZIndex&quot;: true, &quot;collapsed&quot;: false, &quot;hideSingleBase&quot;: true, &quot;position&quot;: &quot;topright&quot;}\n",
       "            ).addTo(map_bed680e3ff21f4a499e0f6091ec86b34);\n",
       "        \n",
       "    \n",
       "            map_bed680e3ff21f4a499e0f6091ec86b34.fitBounds(\n",
       "                [[48.782327, 9.175099], [48.787367, 9.180774]],\n",
       "                {}\n",
       "            );\n",
       "        \n",
       "&lt;/script&gt;\n",
       "&lt;/html&gt;\" style=\"position:absolute;width:100%;height:100%;left:0;top:0;border:none !important;\" allowfullscreen webkitallowfullscreen mozallowfullscreen></iframe></div></div>"
      ],
      "text/plain": [
       "<folium.folium.Map at 0x111013d10>"
      ]
     },
     "execution_count": 10,
     "metadata": {},
     "output_type": "execute_result"
    }
   ],
   "source": [
    "map_routes = DisplayRoute()\n",
    "map_routes.display_map(routes)"
   ]
  }
 ],
 "metadata": {
  "kernelspec": {
   "display_name": "env",
   "language": "python",
   "name": "python3"
  },
  "language_info": {
   "codemirror_mode": {
    "name": "ipython",
    "version": 3
   },
   "file_extension": ".py",
   "mimetype": "text/x-python",
   "name": "python",
   "nbconvert_exporter": "python",
   "pygments_lexer": "ipython3",
   "version": "3.11.4"
  },
  "orig_nbformat": 4
 },
 "nbformat": 4,
 "nbformat_minor": 2
}
