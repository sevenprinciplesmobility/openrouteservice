{
 "cells": [
  {
   "cell_type": "markdown",
   "metadata": {},
   "source": [
    "# Test the self hosted service \n",
    "The service is set up with docker. To find out how to change the possibilities what to control the possible routing parameters from the outside in this notbook a call for the service is implemented. "
   ]
  },
  {
   "cell_type": "code",
   "execution_count": 1,
   "metadata": {
    "ExecuteTime": {
     "end_time": "2023-09-05T08:22:04.346284Z",
     "start_time": "2023-09-05T08:22:04.334704Z"
    }
   },
   "outputs": [],
   "source": [
    "import pandas as pd\n",
    "from routingpy import ORS, Google\n",
    "from routingpy.exceptions import RouterApiError\n",
    "import folium\n",
    "import requests\n",
    "import json"
   ]
  },
  {
   "cell_type": "code",
   "execution_count": 13,
   "metadata": {
    "ExecuteTime": {
     "end_time": "2023-09-05T08:22:06.638481Z",
     "start_time": "2023-09-05T08:22:06.624406Z"
    }
   },
   "outputs": [],
   "source": [
    "class RoutingTool: \n",
    "    \"\"\"Calculate different routes for each given start and end point.\"\"\"\n",
    "    def __init__(self):\n",
    "        '''Define url.'''\n",
    "        self.base_url_ors = 'http://localhost:8080/ors/v2/directions'\n",
    "        self.setting_ors_cargo_bike()\n",
    "        \n",
    "    def setting_ors_cargo_bike(self, elevation = True, avoid_features = [\"junction\", \"steps\"], steepness_difficulty = 0):\n",
    "\n",
    "        ors_cargo_bike_green_args = {\n",
    "            'elevation': elevation, # take elevation into account\n",
    "            'language': 'de',\n",
    "            'options': {\n",
    "                \"avoid_features\": avoid_features,# avoid steps\n",
    "                'profile_params': {\n",
    "                    'weightings': {\n",
    "                        'steepness_difficulty': steepness_difficulty, # Beginner steepness difficulty\n",
    "                        'green': 1\n",
    "                    },\n",
    "                },\n",
    "            },\n",
    "            'extra_info': [\n",
    "                'waytype',\n",
    "                'surface'\n",
    "            ],\n",
    "        }     \n",
    "        ors_cargo_bike_args = {\n",
    "            'elevation': elevation, # take elevation into account\n",
    "            'language': 'de',\n",
    "            'options': {\n",
    "                'avoid_features': avoid_features,# avoid steps\n",
    "                'profile_params': {\n",
    "                    'weightings': {\n",
    "                        'steepness_difficulty': steepness_difficulty, # Beginner steepness difficulty\n",
    "                    },\n",
    "                },\n",
    "            },\n",
    "            'extra_info': [\n",
    "                'waytype',\n",
    "                'surface'\n",
    "            ],\n",
    "        }   \n",
    "        self.args = [ors_cargo_bike_green_args, ors_cargo_bike_args]\n",
    "\n",
    "    def calculate_directions(self, coordinates):\n",
    "        routes = []\n",
    "        client, profile, args, name = ORS(base_url = self.base_url_ors), 'cycling-cargo', self.args, 'ORS'\n",
    "        try:\n",
    "            for arg in args:\n",
    "                print(\"Trying directions: \", name)\n",
    "                route = client.directions(locations=coordinates, profile=profile, **arg)\n",
    "                print(route)\n",
    "                routes.append((route, name))\n",
    "        except RouterApiError as rae:\n",
    "            # print(\"Error\", rae.message['error'])\n",
    "            # self.rae = rae\n",
    "            # return False\n",
    "            print(rae)\n",
    "        except KeyError as ke:\n",
    "            # print(\"Error\", ke.message['error'])\n",
    "            # return False\n",
    "            print(ke)\n",
    "        self.routes = routes\n",
    "        return True\n",
    "    def direction_wgs84(self):\n",
    "        '''Return the coordinates in wgs84.'''\n",
    "        return self.routes\n",
    "    def direction_etrs89(self):\n",
    "        '''Return the coordinates in etrs89.'''\n",
    "        try:\n",
    "            ors_coords = [self.convert_coord_systems(geom) for geom in self.routes[0][0].geometry]\n",
    "        except:\n",
    "            return False\n",
    "        etrs89  = ors_coords\n",
    "        return etrs89\n",
    "        \n"
   ]
  },
  {
   "cell_type": "code",
   "execution_count": 14,
   "metadata": {
    "ExecuteTime": {
     "end_time": "2023-09-05T08:23:08.259177Z",
     "start_time": "2023-09-05T08:22:25.221006Z"
    }
   },
   "outputs": [
    {
     "name": "stdout",
     "output_type": "stream",
     "text": [
      "Trying directions:  ORS\n",
      "'content-type'\n",
      "[]\n"
     ]
    }
   ],
   "source": [
    "routes = []\n",
    "coord = [[8.67710307065867, 49.4229726228998], [8.683560278482277, 49.39729589125126]] \n",
    "tool_track = RoutingTool()\n",
    "if tool_track.calculate_directions(coord):\n",
    "    print(tool_track.routes)\n",
    "    routes.append(tool_track.routes[0][0])\n",
    "    routes.append(tool_track.routes[1][0])"
   ]
  },
  {
   "cell_type": "markdown",
   "metadata": {},
   "source": [
    "# Alternative approach to calling local ORS"
   ]
  },
  {
   "cell_type": "code",
   "execution_count": 2,
   "metadata": {},
   "outputs": [],
   "source": [
    "def swap_lat_lon(coordinates):\n",
    "        return list(map(lambda point: [point[1], point[0]], coordinates))"
   ]
  },
  {
   "cell_type": "code",
   "execution_count": 11,
   "metadata": {},
   "outputs": [],
   "source": [
    "coords_1 = [[52.77782, 13.24303], [52.5847, 13.4081], [52.5562, 13.3845], [52.4039, 13.4043]]\n",
    "coords_2 = [[52.77782, 13.24303], [52.5563, 13.441]]\n",
    "coords_3 = [[49.429321002133264, 8.645513302164934], [49.382699440280376, 8.672026684572918]]\n",
    "coords_4 = [[49.41420893897647, 8.71626905022367], [49.421054562823805, 8.686822964497205], [49.43177943919527, 8.705671632343325]]\n",
    "coords_5 = [[49.407022003174916, 8.690847910825031], [49.404651744895276, 8.677084284967348]]\n",
    "coords_6 = [[49.40003, 8.69061], [49.39666, 8.68972]]\n",
    "\n",
    "coords_7 = [[47.37814421396306, 8.541416168049837], [47.36949803239042, 8.539957046453003]]\n",
    "\n",
    "\n",
    "coords_1 = swap_lat_lon(coords_1)\n",
    "coords_2 = swap_lat_lon(coords_2)\n",
    "coords_3 = swap_lat_lon(coords_3)\n",
    "coords_4 = swap_lat_lon(coords_4)\n",
    "coords_5 = swap_lat_lon(coords_5)\n",
    "coords_6 = swap_lat_lon(coords_6)\n",
    "coords_7 = swap_lat_lon(coords_7)\n",
    "\n",
    "\n",
    "check_url = 'http://localhost:8080/ors/v2/health'\n",
    "\n",
    "check_response = requests.get(check_url)\n",
    "ideal_response = {\"status\":\"ready\"}\n",
    "\n",
    "if check_response.json() == ideal_response:\n",
    "\n",
    "    url = 'http://localhost:8080/ors/v2/directions/cycling-cargo'\n",
    "\n",
    "    headers = {\n",
    "    'Content-Type': 'application/json; charset=utf-8',\n",
    "    'Accept': 'application/json, application/geo+json, application/gpx+xml, img/png; charset=utf-8'\n",
    "    }   \n",
    "\n",
    "    data_1 = {\n",
    "        \"coordinates\": coords_7,\n",
    "        # 'options': {\n",
    "        #     'profile_params': {\n",
    "        #         'weightings': {\n",
    "        #             'green': 0.8\n",
    "        #         },\n",
    "        #     },\n",
    "        # },\n",
    "        # \"extra_info\": [\"green\"],\n",
    "        \"instructions\":\"false\",\n",
    "        \"preference\":\"recommended\",\n",
    "        \"units\":\"m\"\n",
    "    }\n",
    "\n",
    "    data_2 = {\n",
    "    \"coordinates\": coords_7,\n",
    "    # 'options': {\n",
    "    #     'profile_params': {\n",
    "    #         'weightings': {\n",
    "    #             'green': 0.0\n",
    "    #         },\n",
    "    #     },\n",
    "    # },\n",
    "    # \"extra_info\": [\"green\"],\n",
    "    \"instructions\":\"false\",\n",
    "    \"preference\":\"recommended\",\n",
    "    \"units\":\"m\"\n",
    "    }\n",
    "\n",
    "    response_1 = requests.post(url, headers=headers, data=json.dumps(data_1))\n",
    "\n",
    "    response_2 = requests.post(url, headers=headers, data=json.dumps(data_2))\n",
    "\n",
    "    # Remove comments below to save file\n",
    "\n",
    "    filename = 'response-custom.json'\n",
    "\n",
    "    with open(filename, 'w') as f:\n",
    "        json.dump(response_1.json(), f, indent=4)\n",
    "\n",
    "else:\n",
    "    print(\"ORS not ready...\")\n",
    "    print(\"Response: \", check_response.json())"
   ]
  },
  {
   "cell_type": "code",
   "execution_count": 12,
   "metadata": {},
   "outputs": [],
   "source": [
    "response_1 = response_1.json()\n",
    "response_2 = response_2.json()"
   ]
  },
  {
   "cell_type": "code",
   "execution_count": 13,
   "metadata": {},
   "outputs": [
    {
     "data": {
      "text/plain": [
       "[[8.541416168049837, 47.37814421396306],\n",
       " [8.539957046453003, 47.36949803239042]]"
      ]
     },
     "execution_count": 13,
     "metadata": {},
     "output_type": "execute_result"
    }
   ],
   "source": [
    "coords_7"
   ]
  },
  {
   "cell_type": "code",
   "execution_count": 14,
   "metadata": {},
   "outputs": [
    {
     "data": {
      "text/plain": [
       "{'error': {'code': 2010,\n",
       "  'message': 'Could not find routable point within a radius of 400.0 meters of specified coordinate 0: 8.5414162 47.3781442.'},\n",
       " 'info': {'engine': {'build_date': '2023-10-06T09:54:31Z', 'version': '8.0'},\n",
       "  'timestamp': 1696852485004}}"
      ]
     },
     "execution_count": 14,
     "metadata": {},
     "output_type": "execute_result"
    }
   ],
   "source": [
    "response_1"
   ]
  },
  {
   "cell_type": "code",
   "execution_count": 8,
   "metadata": {},
   "outputs": [
    {
     "data": {
      "text/plain": [
       "{'bbox': [8.689218, 49.396658, 8.690602, 49.400031],\n",
       " 'routes': [{'summary': {'distance': 427.9, 'duration': 70.0},\n",
       "   'bbox': [8.689218, 49.396658, 8.690602, 49.400031],\n",
       "   'geometry': 'emolHgk`t@^Jv@TVLVVNZHTEHARBNFDLAJJXd@Xf@JJH@FA\\\\ADAZA@?@?TCD?JA~AYz@MZOd@IJAx@K',\n",
       "   'way_points': [0, 31],\n",
       "   'legs': []}],\n",
       " 'metadata': {'attribution': 'openrouteservice.org, OpenStreetMap contributors, tmc - BASt',\n",
       "  'service': 'routing',\n",
       "  'timestamp': 1696586237106,\n",
       "  'query': {'coordinates': [[8.69061, 49.40003], [8.68972, 49.39666]],\n",
       "   'profile': 'cycling-cargo',\n",
       "   'preference': 'recommended',\n",
       "   'format': 'json',\n",
       "   'units': 'm'},\n",
       "  'engine': {'version': '8.0',\n",
       "   'build_date': '2023-10-06T09:54:31Z',\n",
       "   'graph_date': '2023-10-06T09:55:56Z'}}}"
      ]
     },
     "execution_count": 8,
     "metadata": {},
     "output_type": "execute_result"
    }
   ],
   "source": [
    "response_2"
   ]
  },
  {
   "cell_type": "code",
   "execution_count": 25,
   "metadata": {
    "ExecuteTime": {
     "end_time": "2023-09-04T09:18:28.662209Z",
     "start_time": "2023-09-04T09:18:28.524822Z"
    }
   },
   "outputs": [],
   "source": [
    "class DisplayRoute():\n",
    "    def swap_lat_lon(self,coordinates):\n",
    "        return list(map(lambda point: [point[1], point[0]], coordinates))\n",
    "    def display_map(self,routes):\n",
    "        results = self.setting_up_api(routes)\n",
    "        my_map = folium.Map()\n",
    "\n",
    "        for route, name, color in results:\n",
    "            points = self.swap_lat_lon(route.geometry) \n",
    "            feature_group = folium.FeatureGroup(name=name)\n",
    "            folium.PolyLine(points, color=color, opacity=0.5, tooltip=name).add_to(feature_group)\n",
    "            feature_group.add_to(my_map)\n",
    "\n",
    "        folium.LayerControl(collapsed=False, hideSingleBase=True).add_to(my_map)\n",
    "        my_map.fit_bounds(my_map.get_bounds())\n",
    "        return my_map\n",
    "    def setting_up_api(self, routes):\n",
    "        settings = []\n",
    "        settings.append(routes)\n",
    "        settings.append((routes[0], 'Green', 'green'))\n",
    "        settings.append((routes[1], ' Not Green', 'blue'))\n",
    "        return settings"
   ]
  },
  {
   "cell_type": "code",
   "execution_count": null,
   "metadata": {
    "ExecuteTime": {
     "end_time": "2023-09-04T09:18:28.686522Z",
     "start_time": "2023-09-04T09:18:28.536756Z"
    }
   },
   "outputs": [],
   "source": [
    "map_routes = DisplayRoute()\n",
    "map_routes.display_map(response)"
   ]
  },
  {
   "cell_type": "markdown",
   "metadata": {},
   "source": [
    "# Alternative way to display routes"
   ]
  },
  {
   "cell_type": "markdown",
   "metadata": {},
   "source": [
    "## NON-GREEN ROUTE"
   ]
  },
  {
   "cell_type": "code",
   "execution_count": 9,
   "metadata": {},
   "outputs": [
    {
     "data": {
      "text/html": [
       "<div style=\"width:100%;\"><div style=\"position:relative;width:100%;height:0;padding-bottom:60%;\"><span style=\"color:#565656\">Make this Notebook Trusted to load map: File -> Trust Notebook</span><iframe srcdoc=\"&lt;!DOCTYPE html&gt;\n",
       "&lt;html&gt;\n",
       "&lt;head&gt;\n",
       "    \n",
       "    &lt;meta http-equiv=&quot;content-type&quot; content=&quot;text/html; charset=UTF-8&quot; /&gt;\n",
       "    \n",
       "        &lt;script&gt;\n",
       "            L_NO_TOUCH = false;\n",
       "            L_DISABLE_3D = false;\n",
       "        &lt;/script&gt;\n",
       "    \n",
       "    &lt;style&gt;html, body {width: 100%;height: 100%;margin: 0;padding: 0;}&lt;/style&gt;\n",
       "    &lt;style&gt;#map {position:absolute;top:0;bottom:0;right:0;left:0;}&lt;/style&gt;\n",
       "    &lt;script src=&quot;https://cdn.jsdelivr.net/npm/leaflet@1.9.3/dist/leaflet.js&quot;&gt;&lt;/script&gt;\n",
       "    &lt;script src=&quot;https://code.jquery.com/jquery-1.12.4.min.js&quot;&gt;&lt;/script&gt;\n",
       "    &lt;script src=&quot;https://cdn.jsdelivr.net/npm/bootstrap@5.2.2/dist/js/bootstrap.bundle.min.js&quot;&gt;&lt;/script&gt;\n",
       "    &lt;script src=&quot;https://cdnjs.cloudflare.com/ajax/libs/Leaflet.awesome-markers/2.0.2/leaflet.awesome-markers.js&quot;&gt;&lt;/script&gt;\n",
       "    &lt;link rel=&quot;stylesheet&quot; href=&quot;https://cdn.jsdelivr.net/npm/leaflet@1.9.3/dist/leaflet.css&quot;/&gt;\n",
       "    &lt;link rel=&quot;stylesheet&quot; href=&quot;https://cdn.jsdelivr.net/npm/bootstrap@5.2.2/dist/css/bootstrap.min.css&quot;/&gt;\n",
       "    &lt;link rel=&quot;stylesheet&quot; href=&quot;https://netdna.bootstrapcdn.com/bootstrap/3.0.0/css/bootstrap.min.css&quot;/&gt;\n",
       "    &lt;link rel=&quot;stylesheet&quot; href=&quot;https://cdn.jsdelivr.net/npm/@fortawesome/fontawesome-free@6.2.0/css/all.min.css&quot;/&gt;\n",
       "    &lt;link rel=&quot;stylesheet&quot; href=&quot;https://cdnjs.cloudflare.com/ajax/libs/Leaflet.awesome-markers/2.0.2/leaflet.awesome-markers.css&quot;/&gt;\n",
       "    &lt;link rel=&quot;stylesheet&quot; href=&quot;https://cdn.jsdelivr.net/gh/python-visualization/folium/folium/templates/leaflet.awesome.rotate.min.css&quot;/&gt;\n",
       "    \n",
       "            &lt;meta name=&quot;viewport&quot; content=&quot;width=device-width,\n",
       "                initial-scale=1.0, maximum-scale=1.0, user-scalable=no&quot; /&gt;\n",
       "            &lt;style&gt;\n",
       "                #map_2e2a02884e3a6b64d2e75e05f5a42355 {\n",
       "                    position: relative;\n",
       "                    width: 100.0%;\n",
       "                    height: 100.0%;\n",
       "                    left: 0.0%;\n",
       "                    top: 0.0%;\n",
       "                }\n",
       "                .leaflet-container { font-size: 1rem; }\n",
       "            &lt;/style&gt;\n",
       "        \n",
       "&lt;/head&gt;\n",
       "&lt;body&gt;\n",
       "    \n",
       "    \n",
       "            &lt;div class=&quot;folium-map&quot; id=&quot;map_2e2a02884e3a6b64d2e75e05f5a42355&quot; &gt;&lt;/div&gt;\n",
       "        \n",
       "&lt;/body&gt;\n",
       "&lt;script&gt;\n",
       "    \n",
       "    \n",
       "            var map_2e2a02884e3a6b64d2e75e05f5a42355 = L.map(\n",
       "                &quot;map_2e2a02884e3a6b64d2e75e05f5a42355&quot;,\n",
       "                {\n",
       "                    center: [49.398596874999996, 8.689654687500001],\n",
       "                    crs: L.CRS.EPSG3857,\n",
       "                    zoom: 14,\n",
       "                    zoomControl: true,\n",
       "                    preferCanvas: false,\n",
       "                }\n",
       "            );\n",
       "\n",
       "            \n",
       "\n",
       "        \n",
       "    \n",
       "            var tile_layer_2c3e17a8c47f2d92832609d1386398f9 = L.tileLayer(\n",
       "                &quot;https://{s}.tile.openstreetmap.org/{z}/{x}/{y}.png&quot;,\n",
       "                {&quot;attribution&quot;: &quot;Data by \\u0026copy; \\u003ca target=\\&quot;_blank\\&quot; href=\\&quot;http://openstreetmap.org\\&quot;\\u003eOpenStreetMap\\u003c/a\\u003e, under \\u003ca target=\\&quot;_blank\\&quot; href=\\&quot;http://www.openstreetmap.org/copyright\\&quot;\\u003eODbL\\u003c/a\\u003e.&quot;, &quot;detectRetina&quot;: false, &quot;maxNativeZoom&quot;: 18, &quot;maxZoom&quot;: 18, &quot;minZoom&quot;: 0, &quot;noWrap&quot;: false, &quot;opacity&quot;: 1, &quot;subdomains&quot;: &quot;abc&quot;, &quot;tms&quot;: false}\n",
       "            ).addTo(map_2e2a02884e3a6b64d2e75e05f5a42355);\n",
       "        \n",
       "    \n",
       "            var feature_group_9885d8f52e95230724d05f5c6b44e10f = L.featureGroup(\n",
       "                {}\n",
       "            ).addTo(map_2e2a02884e3a6b64d2e75e05f5a42355);\n",
       "        \n",
       "    \n",
       "            var poly_line_105e388cda202144e2f42782ac9c72d6 = L.polyline(\n",
       "                [[49.40003, 8.6906], [49.39987, 8.69054], [49.39959, 8.69043], [49.39947, 8.69036], [49.39935, 8.69024], [49.39927, 8.6901], [49.39922, 8.68999], [49.39925, 8.68994], [49.39926, 8.68984], [49.39924, 8.68976], [49.3992, 8.68973], [49.39913, 8.68974], [49.39907, 8.68968], [49.39894, 8.68949], [49.39881, 8.68929], [49.39875, 8.68923], [49.3987, 8.68922], [49.39866, 8.68923], [49.39851, 8.68924], [49.39848, 8.68925], [49.39834, 8.68926], [49.39833, 8.68926], [49.39832, 8.68926], [49.39821, 8.68928], [49.39818, 8.68928], [49.39812, 8.68929], [49.39764, 8.68942], [49.39734, 8.68949], [49.3972, 8.68957], [49.39701, 8.68962], [49.39695, 8.68963], [49.39666, 8.68969]],\n",
       "                {&quot;bubblingMouseEvents&quot;: true, &quot;color&quot;: &quot;blue&quot;, &quot;dashArray&quot;: null, &quot;dashOffset&quot;: null, &quot;fill&quot;: false, &quot;fillColor&quot;: &quot;blue&quot;, &quot;fillOpacity&quot;: 0.2, &quot;fillRule&quot;: &quot;evenodd&quot;, &quot;lineCap&quot;: &quot;round&quot;, &quot;lineJoin&quot;: &quot;round&quot;, &quot;noClip&quot;: false, &quot;opacity&quot;: 1, &quot;smoothFactor&quot;: 1.0, &quot;stroke&quot;: true, &quot;weight&quot;: 2.5}\n",
       "            ).addTo(feature_group_9885d8f52e95230724d05f5c6b44e10f);\n",
       "        \n",
       "    \n",
       "            var feature_group_365b72d11c5ccae1ceb5bef72d0babc9 = L.featureGroup(\n",
       "                {}\n",
       "            ).addTo(map_2e2a02884e3a6b64d2e75e05f5a42355);\n",
       "        \n",
       "    \n",
       "            var poly_line_69f4c031712d6edc57fc7ae46d2c0529 = L.polyline(\n",
       "                [[49.40003, 8.6906], [49.39987, 8.69054], [49.39959, 8.69043], [49.39947, 8.69036], [49.39935, 8.69024], [49.39927, 8.6901], [49.39922, 8.68999], [49.39925, 8.68994], [49.39926, 8.68984], [49.39924, 8.68976], [49.3992, 8.68973], [49.39913, 8.68974], [49.39907, 8.68968], [49.39894, 8.68949], [49.39881, 8.68929], [49.39875, 8.68923], [49.3987, 8.68922], [49.39866, 8.68923], [49.39851, 8.68924], [49.39848, 8.68925], [49.39834, 8.68926], [49.39833, 8.68926], [49.39832, 8.68926], [49.39821, 8.68928], [49.39818, 8.68928], [49.39812, 8.68929], [49.39764, 8.68942], [49.39734, 8.68949], [49.3972, 8.68957], [49.39701, 8.68962], [49.39695, 8.68963], [49.39666, 8.68969]],\n",
       "                {&quot;bubblingMouseEvents&quot;: true, &quot;color&quot;: &quot;red&quot;, &quot;dashArray&quot;: null, &quot;dashOffset&quot;: null, &quot;fill&quot;: false, &quot;fillColor&quot;: &quot;red&quot;, &quot;fillOpacity&quot;: 0.2, &quot;fillRule&quot;: &quot;evenodd&quot;, &quot;lineCap&quot;: &quot;round&quot;, &quot;lineJoin&quot;: &quot;round&quot;, &quot;noClip&quot;: false, &quot;opacity&quot;: 1, &quot;smoothFactor&quot;: 1.0, &quot;stroke&quot;: true, &quot;weight&quot;: 2.5}\n",
       "            ).addTo(feature_group_365b72d11c5ccae1ceb5bef72d0babc9);\n",
       "        \n",
       "    \n",
       "            var layer_control_0b0a1b89fe77eebea3b31f8ad8f0da01 = {\n",
       "                base_layers : {\n",
       "                    &quot;openstreetmap&quot; : tile_layer_2c3e17a8c47f2d92832609d1386398f9,\n",
       "                },\n",
       "                overlays :  {\n",
       "                    &quot;Route 1&quot; : feature_group_9885d8f52e95230724d05f5c6b44e10f,\n",
       "                    &quot;Route 2&quot; : feature_group_365b72d11c5ccae1ceb5bef72d0babc9,\n",
       "                },\n",
       "            };\n",
       "            L.control.layers(\n",
       "                layer_control_0b0a1b89fe77eebea3b31f8ad8f0da01.base_layers,\n",
       "                layer_control_0b0a1b89fe77eebea3b31f8ad8f0da01.overlays,\n",
       "                {&quot;autoZIndex&quot;: true, &quot;collapsed&quot;: true, &quot;position&quot;: &quot;topright&quot;}\n",
       "            ).addTo(map_2e2a02884e3a6b64d2e75e05f5a42355);\n",
       "        \n",
       "&lt;/script&gt;\n",
       "&lt;/html&gt;\" style=\"position:absolute;width:100%;height:100%;left:0;top:0;border:none !important;\" allowfullscreen webkitallowfullscreen mozallowfullscreen></iframe></div></div>"
      ],
      "text/plain": [
       "<folium.folium.Map at 0x10ec97e90>"
      ]
     },
     "execution_count": 9,
     "metadata": {},
     "output_type": "execute_result"
    }
   ],
   "source": [
    "import folium\n",
    "import polyline\n",
    "\n",
    "# Decode polyline\n",
    "geometry_1 = response_1['routes'][0]['geometry']\n",
    "geometry_2 = response_2['routes'][0]['geometry']\n",
    "\n",
    "decoded_1 = polyline.decode(geometry_1)\n",
    "decoded_2 = polyline.decode(geometry_2)\n",
    "\n",
    "# Create a map centered at the average latitude and longitude of your route\n",
    "map_center = [sum(lat for lat, _ in decoded_1) / len(decoded_1), sum(lon for _, lon in decoded_1) / len(decoded_1)]\n",
    "route_map = folium.Map(location=map_center, zoom_start=14)\n",
    "\n",
    "# Create feature groups\n",
    "route_1 = folium.FeatureGroup(name='Route 1')\n",
    "route_2 = folium.FeatureGroup(name='Route 2')\n",
    "\n",
    "# Add the first decoded polyline to the route_1 feature group\n",
    "folium.PolyLine(locations=decoded_1, color='blue', weight=2.5, opacity=1).add_to(route_1)\n",
    "route_1.add_to(route_map)  # Add feature group to map\n",
    "\n",
    "# Add the second decoded polyline to the route_2 feature group\n",
    "folium.PolyLine(locations=decoded_2, color='red', weight=2.5, opacity=1).add_to(route_2)\n",
    "route_2.add_to(route_map)  # Add feature group to map\n",
    "\n",
    "# Add layer control to toggle routes on map\n",
    "folium.LayerControl().add_to(route_map)\n",
    "\n",
    "# Display the map\n",
    "route_map\n"
   ]
  },
  {
   "cell_type": "markdown",
   "metadata": {},
   "source": [
    "# Green Route"
   ]
  },
  {
   "cell_type": "code",
   "execution_count": 40,
   "metadata": {},
   "outputs": [
    {
     "data": {
      "text/html": [
       "<div style=\"width:100%;\"><div style=\"position:relative;width:100%;height:0;padding-bottom:60%;\"><span style=\"color:#565656\">Make this Notebook Trusted to load map: File -> Trust Notebook</span><iframe srcdoc=\"&lt;!DOCTYPE html&gt;\n",
       "&lt;html&gt;\n",
       "&lt;head&gt;\n",
       "    \n",
       "    &lt;meta http-equiv=&quot;content-type&quot; content=&quot;text/html; charset=UTF-8&quot; /&gt;\n",
       "    \n",
       "        &lt;script&gt;\n",
       "            L_NO_TOUCH = false;\n",
       "            L_DISABLE_3D = false;\n",
       "        &lt;/script&gt;\n",
       "    \n",
       "    &lt;style&gt;html, body {width: 100%;height: 100%;margin: 0;padding: 0;}&lt;/style&gt;\n",
       "    &lt;style&gt;#map {position:absolute;top:0;bottom:0;right:0;left:0;}&lt;/style&gt;\n",
       "    &lt;script src=&quot;https://cdn.jsdelivr.net/npm/leaflet@1.9.3/dist/leaflet.js&quot;&gt;&lt;/script&gt;\n",
       "    &lt;script src=&quot;https://code.jquery.com/jquery-1.12.4.min.js&quot;&gt;&lt;/script&gt;\n",
       "    &lt;script src=&quot;https://cdn.jsdelivr.net/npm/bootstrap@5.2.2/dist/js/bootstrap.bundle.min.js&quot;&gt;&lt;/script&gt;\n",
       "    &lt;script src=&quot;https://cdnjs.cloudflare.com/ajax/libs/Leaflet.awesome-markers/2.0.2/leaflet.awesome-markers.js&quot;&gt;&lt;/script&gt;\n",
       "    &lt;link rel=&quot;stylesheet&quot; href=&quot;https://cdn.jsdelivr.net/npm/leaflet@1.9.3/dist/leaflet.css&quot;/&gt;\n",
       "    &lt;link rel=&quot;stylesheet&quot; href=&quot;https://cdn.jsdelivr.net/npm/bootstrap@5.2.2/dist/css/bootstrap.min.css&quot;/&gt;\n",
       "    &lt;link rel=&quot;stylesheet&quot; href=&quot;https://netdna.bootstrapcdn.com/bootstrap/3.0.0/css/bootstrap.min.css&quot;/&gt;\n",
       "    &lt;link rel=&quot;stylesheet&quot; href=&quot;https://cdn.jsdelivr.net/npm/@fortawesome/fontawesome-free@6.2.0/css/all.min.css&quot;/&gt;\n",
       "    &lt;link rel=&quot;stylesheet&quot; href=&quot;https://cdnjs.cloudflare.com/ajax/libs/Leaflet.awesome-markers/2.0.2/leaflet.awesome-markers.css&quot;/&gt;\n",
       "    &lt;link rel=&quot;stylesheet&quot; href=&quot;https://cdn.jsdelivr.net/gh/python-visualization/folium/folium/templates/leaflet.awesome.rotate.min.css&quot;/&gt;\n",
       "    \n",
       "            &lt;meta name=&quot;viewport&quot; content=&quot;width=device-width,\n",
       "                initial-scale=1.0, maximum-scale=1.0, user-scalable=no&quot; /&gt;\n",
       "            &lt;style&gt;\n",
       "                #map_4f0c2d14b2136657e37d5f6b9889a933 {\n",
       "                    position: relative;\n",
       "                    width: 100.0%;\n",
       "                    height: 100.0%;\n",
       "                    left: 0.0%;\n",
       "                    top: 0.0%;\n",
       "                }\n",
       "                .leaflet-container { font-size: 1rem; }\n",
       "            &lt;/style&gt;\n",
       "        \n",
       "&lt;/head&gt;\n",
       "&lt;body&gt;\n",
       "    \n",
       "    \n",
       "            &lt;div class=&quot;folium-map&quot; id=&quot;map_4f0c2d14b2136657e37d5f6b9889a933&quot; &gt;&lt;/div&gt;\n",
       "        \n",
       "&lt;/body&gt;\n",
       "&lt;script&gt;\n",
       "    \n",
       "    \n",
       "            var map_4f0c2d14b2136657e37d5f6b9889a933 = L.map(\n",
       "                &quot;map_4f0c2d14b2136657e37d5f6b9889a933&quot;,\n",
       "                {\n",
       "                    center: [49.40484862857145, 8.66822497142857],\n",
       "                    crs: L.CRS.EPSG3857,\n",
       "                    zoom: 14,\n",
       "                    zoomControl: true,\n",
       "                    preferCanvas: false,\n",
       "                }\n",
       "            );\n",
       "\n",
       "            \n",
       "\n",
       "        \n",
       "    \n",
       "            var tile_layer_0a123e2553e0c046e84e2c76880f4619 = L.tileLayer(\n",
       "                &quot;https://{s}.tile.openstreetmap.org/{z}/{x}/{y}.png&quot;,\n",
       "                {&quot;attribution&quot;: &quot;Data by \\u0026copy; \\u003ca target=\\&quot;_blank\\&quot; href=\\&quot;http://openstreetmap.org\\&quot;\\u003eOpenStreetMap\\u003c/a\\u003e, under \\u003ca target=\\&quot;_blank\\&quot; href=\\&quot;http://www.openstreetmap.org/copyright\\&quot;\\u003eODbL\\u003c/a\\u003e.&quot;, &quot;detectRetina&quot;: false, &quot;maxNativeZoom&quot;: 18, &quot;maxZoom&quot;: 18, &quot;minZoom&quot;: 0, &quot;noWrap&quot;: false, &quot;opacity&quot;: 1, &quot;subdomains&quot;: &quot;abc&quot;, &quot;tms&quot;: false}\n",
       "            ).addTo(map_4f0c2d14b2136657e37d5f6b9889a933);\n",
       "        \n",
       "    \n",
       "            var feature_group_506255aeedb57a47106eda398d7ecd66 = L.featureGroup(\n",
       "                {}\n",
       "            ).addTo(map_4f0c2d14b2136657e37d5f6b9889a933);\n",
       "        \n",
       "    \n",
       "            var poly_line_e1271ebe566a25ed7db672a05d424b73 = L.polyline(\n",
       "                [[49.42932, 8.64552], [49.42926, 8.64557], [49.42866, 8.64591], [49.42835, 8.64611], [49.42745, 8.64671], [49.42689, 8.64705], [49.42665, 8.64722], [49.42579, 8.64772], [49.4257, 8.64779], [49.42515, 8.64829], [49.42445, 8.64877], [49.42417, 8.649], [49.42413, 8.64905], [49.42402, 8.64914], [49.42337, 8.64963], [49.42332, 8.64968], [49.42283, 8.65017], [49.4224, 8.65046], [49.4219, 8.65076], [49.42138, 8.65104], [49.42071, 8.65139], [49.42022, 8.65162], [49.42014, 8.65175], [49.41947, 8.6522], [49.41931, 8.65227], [49.41802, 8.65284], [49.41711, 8.6533], [49.41627, 8.65385], [49.41564, 8.65436], [49.41513, 8.65484], [49.41456, 8.65523], [49.4145, 8.65525], [49.41438, 8.65533], [49.41411, 8.65562], [49.41392, 8.65588], [49.41287, 8.65743], [49.4122, 8.65853], [49.41192, 8.659], [49.4115, 8.65992], [49.4112, 8.66064], [49.41058, 8.66249], [49.41041, 8.66302], [49.41028, 8.66349], [49.41014, 8.66421], [49.40992, 8.66549], [49.40975, 8.66639], [49.40952, 8.66785], [49.40948, 8.66817], [49.40947, 8.66824], [49.40933, 8.66925], [49.40927, 8.66953], [49.40922, 8.66987], [49.40903, 8.67106], [49.40897, 8.67153], [49.40891, 8.67202], [49.40888, 8.67259], [49.40889, 8.67379], [49.40892, 8.67416], [49.40898, 8.67441], [49.40906, 8.67462], [49.40913, 8.67475], [49.40906, 8.67484], [49.40896, 8.67496], [49.40897, 8.67505], [49.40898, 8.6751], [49.40894, 8.67517], [49.40892, 8.67526], [49.40894, 8.67626], [49.40897, 8.67646], [49.409, 8.67653], [49.40904, 8.67657], [49.40899, 8.67662], [49.40897, 8.67666], [49.40893, 8.67666], [49.4088, 8.67666], [49.40839, 8.67669], [49.4083, 8.67669], [49.40814, 8.67663], [49.40804, 8.67661], [49.40798, 8.67664], [49.40784, 8.67679], [49.40779, 8.67681], [49.40611, 8.67688], [49.4057, 8.67687], [49.40555, 8.67683], [49.40548, 8.67678], [49.40538, 8.67675], [49.40512, 8.67681], [49.40502, 8.6767], [49.405, 8.67675], [49.40498, 8.67679], [49.40496, 8.6768], [49.40485, 8.67681], [49.40461, 8.67684], [49.40453, 8.67685], [49.40438, 8.67688], [49.40429, 8.67694], [49.4042, 8.67703], [49.40413, 8.67707], [49.40404, 8.67713], [49.40383, 8.67726], [49.40358, 8.67748], [49.40319, 8.67792], [49.40261, 8.67859], [49.40194, 8.67939], [49.40182, 8.6795], [49.40174, 8.67952], [49.40166, 8.67949], [49.40159, 8.67944], [49.40048, 8.67795], [49.40042, 8.67786], [49.4004, 8.67781], [49.40033, 8.67769], [49.40012, 8.6773], [49.40005, 8.67719], [49.40002, 8.6771], [49.40002, 8.67705], [49.39993, 8.67701], [49.39989, 8.67696], [49.39945, 8.67618], [49.39898, 8.67529], [49.39862, 8.67453], [49.39823, 8.67382], [49.39818, 8.67372], [49.39814, 8.67366], [49.39811, 8.67359], [49.39807, 8.67348], [49.3979, 8.67314], [49.39769, 8.67278], [49.39758, 8.67263], [49.39748, 8.67254], [49.39739, 8.67242], [49.39707, 8.67184], [49.39696, 8.67121], [49.39693, 8.67121], [49.39687, 8.67122], [49.39673, 8.67091], [49.39665, 8.6708], [49.39658, 8.67072], [49.39656, 8.6708], [49.39654, 8.67089], [49.39648, 8.67094], [49.39642, 8.67102], [49.39597, 8.67028], [49.39571, 8.66994], [49.39424, 8.6682], [49.39184, 8.66543], [49.39135, 8.6648], [49.39128, 8.66482], [49.39044, 8.66647], [49.39023, 8.66648], [49.38913, 8.66651], [49.38898, 8.66652], [49.38806, 8.66654], [49.38756, 8.66655], [49.38585, 8.66662], [49.3859, 8.66734], [49.38591, 8.66769], [49.38591, 8.66825], [49.38588, 8.669], [49.38586, 8.66918], [49.38584, 8.66945], [49.38577, 8.67005], [49.38571, 8.6709], [49.3857, 8.67098], [49.38567, 8.67129], [49.38563, 8.67165], [49.38536, 8.67162], [49.38485, 8.67158], [49.38482, 8.67178], [49.38476, 8.67187], [49.38411, 8.67186], [49.38407, 8.67255], [49.3834, 8.67235], [49.3827, 8.67203]],\n",
       "                {&quot;bubblingMouseEvents&quot;: true, &quot;color&quot;: &quot;blue&quot;, &quot;dashArray&quot;: null, &quot;dashOffset&quot;: null, &quot;fill&quot;: false, &quot;fillColor&quot;: &quot;blue&quot;, &quot;fillOpacity&quot;: 0.2, &quot;fillRule&quot;: &quot;evenodd&quot;, &quot;lineCap&quot;: &quot;round&quot;, &quot;lineJoin&quot;: &quot;round&quot;, &quot;noClip&quot;: false, &quot;opacity&quot;: 1, &quot;smoothFactor&quot;: 1.0, &quot;stroke&quot;: true, &quot;weight&quot;: 2.5}\n",
       "            ).addTo(feature_group_506255aeedb57a47106eda398d7ecd66);\n",
       "        \n",
       "    \n",
       "            var feature_group_33424a39315e6554e3955152a6abd482 = L.featureGroup(\n",
       "                {}\n",
       "            ).addTo(map_4f0c2d14b2136657e37d5f6b9889a933);\n",
       "        \n",
       "    \n",
       "            var poly_line_9389569e7d22ffd74f03d9ca21c7a702 = L.polyline(\n",
       "                [[49.42932, 8.64552], [49.42926, 8.64557], [49.42866, 8.64591], [49.42835, 8.64611], [49.42745, 8.64671], [49.42689, 8.64705], [49.42665, 8.64722], [49.42579, 8.64772], [49.4257, 8.64779], [49.42515, 8.64829], [49.42445, 8.64877], [49.42417, 8.649], [49.42413, 8.64905], [49.42402, 8.64914], [49.42337, 8.64963], [49.42332, 8.64968], [49.42283, 8.65017], [49.4224, 8.65046], [49.4219, 8.65076], [49.42138, 8.65104], [49.42071, 8.65139], [49.42022, 8.65162], [49.42014, 8.65175], [49.41947, 8.6522], [49.41931, 8.65227], [49.41802, 8.65284], [49.41711, 8.6533], [49.41627, 8.65385], [49.41564, 8.65436], [49.41513, 8.65484], [49.41456, 8.65523], [49.4145, 8.65525], [49.41438, 8.65533], [49.41411, 8.65562], [49.41392, 8.65588], [49.41287, 8.65743], [49.4122, 8.65853], [49.41192, 8.659], [49.4115, 8.65992], [49.4112, 8.66064], [49.41058, 8.66249], [49.41041, 8.66302], [49.41028, 8.66349], [49.41014, 8.66421], [49.40992, 8.66549], [49.40975, 8.66639], [49.40952, 8.66785], [49.40948, 8.66817], [49.40947, 8.66824], [49.40933, 8.66925], [49.40927, 8.66953], [49.40922, 8.66987], [49.40903, 8.67106], [49.40897, 8.67153], [49.40891, 8.67202], [49.40888, 8.67259], [49.40889, 8.67379], [49.40892, 8.67416], [49.40898, 8.67441], [49.40906, 8.67462], [49.40913, 8.67475], [49.40906, 8.67484], [49.40896, 8.67496], [49.40897, 8.67505], [49.40898, 8.6751], [49.40894, 8.67517], [49.40892, 8.67526], [49.40894, 8.67626], [49.40897, 8.67646], [49.409, 8.67653], [49.40904, 8.67657], [49.40899, 8.67662], [49.40897, 8.67666], [49.40893, 8.67666], [49.4088, 8.67666], [49.40839, 8.67669], [49.4083, 8.67669], [49.40814, 8.67663], [49.40804, 8.67661], [49.40798, 8.67664], [49.40784, 8.67679], [49.40779, 8.67681], [49.40611, 8.67688], [49.4057, 8.67687], [49.40555, 8.67683], [49.40548, 8.67678], [49.40538, 8.67675], [49.40512, 8.67681], [49.40502, 8.6767], [49.405, 8.67675], [49.40498, 8.67679], [49.40496, 8.6768], [49.40485, 8.67681], [49.40461, 8.67684], [49.40453, 8.67685], [49.40438, 8.67688], [49.40429, 8.67694], [49.4042, 8.67703], [49.40413, 8.67707], [49.40404, 8.67713], [49.40383, 8.67726], [49.40358, 8.67748], [49.40319, 8.67792], [49.40261, 8.67859], [49.40194, 8.67939], [49.40182, 8.6795], [49.40174, 8.67952], [49.40166, 8.67949], [49.40159, 8.67944], [49.40048, 8.67795], [49.40042, 8.67786], [49.4004, 8.67781], [49.40033, 8.67769], [49.40012, 8.6773], [49.40005, 8.67719], [49.40002, 8.6771], [49.40002, 8.67705], [49.39993, 8.67701], [49.39989, 8.67696], [49.39945, 8.67618], [49.39898, 8.67529], [49.39862, 8.67453], [49.39823, 8.67382], [49.39818, 8.67372], [49.39814, 8.67366], [49.39811, 8.67359], [49.39807, 8.67348], [49.3979, 8.67314], [49.39769, 8.67278], [49.39758, 8.67263], [49.39748, 8.67254], [49.39739, 8.67242], [49.39707, 8.67184], [49.39696, 8.67121], [49.39693, 8.67121], [49.39687, 8.67122], [49.39673, 8.67091], [49.39665, 8.6708], [49.39658, 8.67072], [49.39656, 8.6708], [49.39654, 8.67089], [49.39648, 8.67094], [49.39642, 8.67102], [49.39597, 8.67028], [49.39571, 8.66994], [49.39424, 8.6682], [49.39184, 8.66543], [49.39135, 8.6648], [49.39128, 8.66482], [49.39044, 8.66647], [49.39023, 8.66648], [49.38913, 8.66651], [49.38898, 8.66652], [49.38806, 8.66654], [49.38756, 8.66655], [49.38585, 8.66662], [49.3859, 8.66734], [49.38591, 8.66769], [49.38591, 8.66825], [49.38588, 8.669], [49.38586, 8.66918], [49.38584, 8.66945], [49.38577, 8.67005], [49.38571, 8.6709], [49.3857, 8.67098], [49.38567, 8.67129], [49.38563, 8.67165], [49.38536, 8.67162], [49.38485, 8.67158], [49.38482, 8.67178], [49.38476, 8.67187], [49.38411, 8.67186], [49.38407, 8.67255], [49.3834, 8.67235], [49.3827, 8.67203]],\n",
       "                {&quot;bubblingMouseEvents&quot;: true, &quot;color&quot;: &quot;red&quot;, &quot;dashArray&quot;: null, &quot;dashOffset&quot;: null, &quot;fill&quot;: false, &quot;fillColor&quot;: &quot;red&quot;, &quot;fillOpacity&quot;: 0.2, &quot;fillRule&quot;: &quot;evenodd&quot;, &quot;lineCap&quot;: &quot;round&quot;, &quot;lineJoin&quot;: &quot;round&quot;, &quot;noClip&quot;: false, &quot;opacity&quot;: 1, &quot;smoothFactor&quot;: 1.0, &quot;stroke&quot;: true, &quot;weight&quot;: 2.5}\n",
       "            ).addTo(feature_group_33424a39315e6554e3955152a6abd482);\n",
       "        \n",
       "    \n",
       "            var layer_control_7f1c5709bfceaa75875885654faeffdc = {\n",
       "                base_layers : {\n",
       "                    &quot;openstreetmap&quot; : tile_layer_0a123e2553e0c046e84e2c76880f4619,\n",
       "                },\n",
       "                overlays :  {\n",
       "                    &quot;Route 1&quot; : feature_group_506255aeedb57a47106eda398d7ecd66,\n",
       "                    &quot;Route 2&quot; : feature_group_33424a39315e6554e3955152a6abd482,\n",
       "                },\n",
       "            };\n",
       "            L.control.layers(\n",
       "                layer_control_7f1c5709bfceaa75875885654faeffdc.base_layers,\n",
       "                layer_control_7f1c5709bfceaa75875885654faeffdc.overlays,\n",
       "                {&quot;autoZIndex&quot;: true, &quot;collapsed&quot;: true, &quot;position&quot;: &quot;topright&quot;}\n",
       "            ).addTo(map_4f0c2d14b2136657e37d5f6b9889a933);\n",
       "        \n",
       "&lt;/script&gt;\n",
       "&lt;/html&gt;\" style=\"position:absolute;width:100%;height:100%;left:0;top:0;border:none !important;\" allowfullscreen webkitallowfullscreen mozallowfullscreen></iframe></div></div>"
      ],
      "text/plain": [
       "<folium.folium.Map at 0x11afb66d0>"
      ]
     },
     "execution_count": 40,
     "metadata": {},
     "output_type": "execute_result"
    }
   ],
   "source": [
    "import folium\n",
    "import polyline\n",
    "\n",
    "# Decode polyline\n",
    "geometry_1 = response_1['routes'][0]['geometry']\n",
    "geometry_2 = response_2['routes'][0]['geometry']\n",
    "\n",
    "decoded_1 = polyline.decode(geometry_1)\n",
    "decoded_2 = polyline.decode(geometry_2)\n",
    "\n",
    "# Create a map centered at the average latitude and longitude of your route\n",
    "map_center = [sum(lat for lat, _ in decoded_1) / len(decoded_1), sum(lon for _, lon in decoded_1) / len(decoded_1)]\n",
    "route_map = folium.Map(location=map_center, zoom_start=14)\n",
    "\n",
    "# Create feature groups\n",
    "route_1 = folium.FeatureGroup(name='Route 1')\n",
    "route_2 = folium.FeatureGroup(name='Route 2')\n",
    "\n",
    "# Add the first decoded polyline to the route_1 feature group\n",
    "folium.PolyLine(locations=decoded_1, color='blue', weight=2.5, opacity=1).add_to(route_1)\n",
    "route_1.add_to(route_map)  # Add feature group to map\n",
    "\n",
    "# Add the second decoded polyline to the route_2 feature group\n",
    "folium.PolyLine(locations=decoded_2, color='red', weight=2.5, opacity=1).add_to(route_2)\n",
    "route_2.add_to(route_map)  # Add feature group to map\n",
    "\n",
    "# Add layer control to toggle routes on map\n",
    "folium.LayerControl().add_to(route_map)\n",
    "\n",
    "# Display the map\n",
    "route_map\n"
   ]
  }
 ],
 "metadata": {
  "kernelspec": {
   "display_name": "Python 3.11.5 ('ors-fork')",
   "language": "python",
   "name": "python3"
  },
  "language_info": {
   "codemirror_mode": {
    "name": "ipython",
    "version": 3
   },
   "file_extension": ".py",
   "mimetype": "text/x-python",
   "name": "python",
   "nbconvert_exporter": "python",
   "pygments_lexer": "ipython3",
   "version": "3.11.5"
  },
  "orig_nbformat": 4,
  "vscode": {
   "interpreter": {
    "hash": "5dcae8647ef7c3e0b563a6258c05d816d7d93fc3a7269dde0e0aa1b4b01d3246"
   }
  }
 },
 "nbformat": 4,
 "nbformat_minor": 2
}
